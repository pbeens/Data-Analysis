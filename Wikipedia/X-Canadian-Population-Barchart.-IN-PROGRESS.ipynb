{
 "cells": [
  {
   "attachments": {},
   "cell_type": "markdown",
   "metadata": {},
   "source": [
    "## Introduction\n",
    "\n",
    "This project is still in DRAFT form! \n",
    "\n",
    "This project reads in Canadian population data from a table on a page in Wikipedia. It showcases how to read in the data, clean it up so it can be plotted, and then plots the data. \n",
    "\n",
    "The flow in the program follows the standard IPO programming model of Input-Process-Output. \n",
    "\n",
    "We look at two data cases:\n",
    "\n",
    "- population by province, sorted from low population to high\n",
    "- population density by province, sorted from low to high\n",
    "\n",
    "TODO Update this comment once the project is finished."
   ]
  },
  {
   "attachments": {},
   "cell_type": "markdown",
   "metadata": {},
   "source": [
    "## Setup (Import Libraries)"
   ]
  },
  {
   "attachments": {},
   "cell_type": "markdown",
   "metadata": {},
   "source": [
    "This code snippet imports two Python libraries for working with data. The first line is a comment that starts with `#` and explains the purpose of the next line. The second line uses the import keyword to load the pandas library, which is a popular tool for data manipulation and analysis. It also uses the as keyword to give pandas a shorter name, pd, which can be used later to access its features.\n",
    "\n",
    "The third line is another comment that describes the next line. The fourth line imports the matplotlib library, which is a powerful tool for data visualization. It also gives matplotlib a shorter name, plt, which can be used to create plots and charts."
   ]
  },
  {
   "cell_type": "code",
   "execution_count": null,
   "metadata": {},
   "outputs": [],
   "source": [
    "# Import pandas for data manipulation and analysis\n",
    "import pandas as pd\n",
    "\n",
    "# Import matplotlib for data visualization\n",
    "import matplotlib.pyplot as plt\n"
   ]
  },
  {
   "attachments": {},
   "cell_type": "markdown",
   "metadata": {},
   "source": [
    "## Input: Get the Data"
   ]
  },
  {
   "attachments": {},
   "cell_type": "markdown",
   "metadata": {},
   "source": [
    "This code is a way of getting and showing the population data of Canada by province and territory from a Wikipedia page. Here is what each line does:\n",
    "\n",
    "- The first line assigns a string value to a variable named url. This string is the web address of the Wikipedia page that has the data we want.\n",
    "- The second line uses the pd.read_html function from the pandas library to read all the tables from the web page and store them in a list named tables. A list is a collection of items that can be accessed by their position.\n",
    "- The third line assigns the first item of the list tables to a variable named df. This item is a pandas DataFrame, which is a data structure that holds tabular data in rows and columns. The first item of the list is the table we want because it has the population data of Canada by province and territory.\n",
    "- The fourth line uses the display function to show the DataFrame df in a nice format. This function is useful for displaying data in notebooks or interactive shells."
   ]
  },
  {
   "cell_type": "code",
   "execution_count": null,
   "metadata": {},
   "outputs": [],
   "source": [
    "# Define the URL of the Wikipedia page that contains the population data of Canada by province and territory\n",
    "url = \"https://en.wikipedia.org/wiki/Population_of_Canada_by_province_and_territory\"\n",
    "\n",
    "# Use pandas to read all the tables from the URL and store them in a list\n",
    "tables = pd.read_html(url)\n",
    "\n",
    "# Select the first table from the list, which is the one we want\n",
    "df = tables[0]\n",
    "\n",
    "# Display the dataframe\n",
    "display(df)"
   ]
  },
  {
   "attachments": {},
   "cell_type": "markdown",
   "metadata": {},
   "source": [
    "## Process: Clean the Data"
   ]
  },
  {
   "attachments": {},
   "cell_type": "markdown",
   "metadata": {},
   "source": [
    "### Fix the Table of Contents"
   ]
  },
  {
   "attachments": {},
   "cell_type": "markdown",
   "metadata": {},
   "source": [
    "If you look at the the output above you'll see that there are two contents rows, which makes plotting more difficult. Technically we have a \"MultiIndex\", as seen below:"
   ]
  },
  {
   "cell_type": "code",
   "execution_count": null,
   "metadata": {},
   "outputs": [],
   "source": [
    "display(df.columns) # default is a MultiIndex — Messy to work with! \n",
    "\n",
    "# create single index by merging the MultiIndex\n",
    "# This is also messy but we'll rename the columns later"
   ]
  },
  {
   "attachments": {},
   "cell_type": "markdown",
   "metadata": {},
   "source": [
    "Let's eliminate the MultiIndex by joining the first row to the second. This isn't ideal but it can be cleaned up later by renaming the columns."
   ]
  },
  {
   "cell_type": "code",
   "execution_count": null,
   "metadata": {},
   "outputs": [],
   "source": [
    "df.columns = df.columns.map('_'.join)  \n",
    "\n",
    "display(df.head())"
   ]
  },
  {
   "attachments": {},
   "cell_type": "markdown",
   "metadata": {},
   "source": [
    "Let's now rename the column headers to clean it up. \n",
    "\n",
    "You'll notice I use underscores (\"_\") between the words. It's not necessary but it makes it easier for some of the programming we'll be doing later on. "
   ]
  },
  {
   "cell_type": "code",
   "execution_count": null,
   "metadata": {},
   "outputs": [],
   "source": [
    "df = df.rename(columns={\n",
    "    'Population_Population': 'Population_Rank',\n",
    "    'Name[1]_Name[1]': 'Name',\n",
    "    'Population, 2021 Census_Total': 'Population_2021',\n",
    "    'Population, 2021 Census_Proportion': 'Population_Proportion',\n",
    "    'Growth, 2016–21_Growth, 2016–21': 'Growth_2016_21',\n",
    "    'Land area (km2)_Land area (km2)': 'Land_area_km2',\n",
    "    'Population density (per km2)_Population density (per km2)': 'Population_density_per_km2',\n",
    "    'House of Commons seats_Total': 'Commons_house_seats',\n",
    "    'House of Commons seats_Proportion': 'Commons_seats_Proportion',\n",
    "    'Senate seats_Total': 'Senate_seats',\n",
    "    'Senate seats_Proportion': 'Senate_seats_Proportion'\n",
    "})\n",
    "\n",
    "display(df)"
   ]
  },
  {
   "attachments": {},
   "cell_type": "markdown",
   "metadata": {},
   "source": [
    "We can look at the column names like this:"
   ]
  },
  {
   "cell_type": "code",
   "execution_count": null,
   "metadata": {},
   "outputs": [],
   "source": [
    "display(df.columns)"
   ]
  },
  {
   "attachments": {},
   "cell_type": "markdown",
   "metadata": {},
   "source": [
    "### Deleting Rows We Don't Need"
   ]
  },
  {
   "attachments": {},
   "cell_type": "markdown",
   "metadata": {},
   "source": [
    "If we look at the output above we'll see that there's a \"Canada\" line in the rows. We need to delete that! \n",
    "\n",
    "We can find that row by looking for the item in the Name column (`df.Name`) in the dataframe (called `df`) that equals \"Canada\":"
   ]
  },
  {
   "cell_type": "code",
   "execution_count": null,
   "metadata": {},
   "outputs": [],
   "source": [
    "df[df.Name == \"Canada\"]"
   ]
  },
  {
   "attachments": {},
   "cell_type": "markdown",
   "metadata": {},
   "source": [
    "Deleting can only happen by using the index number (or value), so let's modify the above accordingly. You'll see that we add `.index` to the search term."
   ]
  },
  {
   "cell_type": "code",
   "execution_count": null,
   "metadata": {},
   "outputs": [],
   "source": [
    "df[df.Name == \"Canada\"].index"
   ]
  },
  {
   "attachments": {},
   "cell_type": "markdown",
   "metadata": {},
   "source": [
    "That will return the index number we need to delete. Putting it all together we get:"
   ]
  },
  {
   "cell_type": "code",
   "execution_count": null,
   "metadata": {},
   "outputs": [],
   "source": [
    "# Delete the row with the Name \"Canada\" and modify the original DataFrame\n",
    "df.drop(df[df.Name == \"Canada\"].index, inplace=True)\n",
    "\n",
    "display(df)"
   ]
  },
  {
   "attachments": {},
   "cell_type": "markdown",
   "metadata": {},
   "source": [
    "Here's a full explanation of how the code above command works.\n",
    "\n",
    "The command  deletes the row with the Name \"Canada\" from a DataFrame named df and modifies the original DataFrame:\n",
    "\n",
    "- `df[df.Name == \"Canada\"]` creates a boolean mask that selects only the row where the Name column is equal to \"Canada\".\n",
    "- `.index` returns the index value of that row, which is an integer or a label that identifies the row position.\n",
    "- `df.drop()` removes the row with the given index value from the DataFrame and returns a new DataFrame without that row.\n",
    "- `inplace=True` tells the drop method to modify the original DataFrame instead of returning a new one. This means that df will be updated with the row removed."
   ]
  },
  {
   "attachments": {},
   "cell_type": "markdown",
   "metadata": {},
   "source": [
    "### Delete the Columns We Don't Need"
   ]
  },
  {
   "cell_type": "code",
   "execution_count": null,
   "metadata": {},
   "outputs": [],
   "source": [
    "#TODO Delete the columns we don't need -- IN PROGRESS!\n",
    "\n"
   ]
  },
  {
   "attachments": {},
   "cell_type": "markdown",
   "metadata": {},
   "source": [
    "### How Do We Sort the Data?"
   ]
  },
  {
   "attachments": {},
   "cell_type": "markdown",
   "metadata": {},
   "source": [
    "We need to sort the data by the way we want to plot it. In our first case, we want to sort it by population, which is the `Population_2021` column.\n",
    "\n",
    "This code sorts a DataFrame named df by the values of a column named Population_2021 in ascending order. Here is what it does:\n",
    "\n",
    "- `df.sort_values()` is a method of Pandas DataFrame that returns a new DataFrame with the rows sorted by one or more columns.\n",
    "- `by=\"Population_2021\"` is a parameter that specifies the column or columns to sort by. In this case, it is a single column name as a string. You can also pass a list of column names to sort by multiple columns.\n",
    "- `ascending=True` is another parameter that specifies the order of sorting. If `True`, the rows are sorted in ascending order, meaning from smallest to largest values. If `False`, the rows are sorted in descending order, meaning from largest to smallest values. \n",
    "\n",
    "The result of this code is a new DataFrame with the same columns as df, but with the rows rearranged according to the Population_2021 values from lowest to highest. The original DataFrame df is not modified unless you assign the result back to it or use the `inplace` parameter."
   ]
  },
  {
   "cell_type": "code",
   "execution_count": null,
   "metadata": {},
   "outputs": [],
   "source": [
    "# Sort the data by name alphabetically\n",
    "df = df.sort_values(by=\"Population_2021\", ascending=True)\n",
    "\n",
    "display(df)"
   ]
  },
  {
   "attachments": {},
   "cell_type": "markdown",
   "metadata": {},
   "source": [
    "## Output: Plot the Population for Each Province"
   ]
  },
  {
   "cell_type": "code",
   "execution_count": null,
   "metadata": {},
   "outputs": [],
   "source": [
    "# Plot the bar chart for population\n",
    "plt.figure(figsize=(10,6)) # Set the figure size\n",
    "plt.bar(df[\"Name\"], df[\"Population_2021\"], color=\"green\") # Plot the bars\n",
    "plt.xticks(rotation=90) # Rotate the x-axis labels\n",
    "plt.xlabel(\"Province or territory\") # Set the x-axis label\n",
    "plt.ylabel(\"Population (2021)\") # Set the y-axis label\n",
    "plt.title(\"Population of Canada by province and territory\") # Set the title\n",
    "plt.show() # Show the plot"
   ]
  },
  {
   "attachments": {},
   "cell_type": "markdown",
   "metadata": {},
   "source": [
    "## Output: Plot the Population Densities"
   ]
  },
  {
   "cell_type": "code",
   "execution_count": null,
   "metadata": {},
   "outputs": [],
   "source": [
    "#TODO Comment this code\n",
    "\n",
    "df = df.sort_values(\"Population_density_per_km2\")"
   ]
  },
  {
   "cell_type": "code",
   "execution_count": null,
   "metadata": {},
   "outputs": [],
   "source": [
    "# Plot the bar chart for density\n",
    "plt.figure(figsize=(10,6)) # Set the figure size\n",
    "plt.bar(df[\"Name\"], df[\"Population_density_per_km2\"], color=\"blue\") # Plot the bars\n",
    "plt.xticks(rotation=90) # Rotate the x-axis labels\n",
    "plt.xlabel(\"Province or territory\") # Set the x-axis label\n",
    "plt.ylabel(\"Population density (per km²)\") # Set the y-axis label\n",
    "plt.title(\"Population density of Canada by province and territory\") # Set the title\n",
    "plt.show() # Show the plot"
   ]
  },
  {
   "attachments": {},
   "cell_type": "markdown",
   "metadata": {},
   "source": [
    "## Exercises"
   ]
  },
  {
   "attachments": {},
   "cell_type": "markdown",
   "metadata": {},
   "source": [
    "1. Modify one of the plots above to use the `Growth_2016_21` column. Create a bar chart of the population growth in _descending_ order. \n",
    "1. What kinds of plots would be interesting by using the **Population growth rate** table? Write the program to do this. "
   ]
  }
 ],
 "metadata": {
  "kernelspec": {
   "display_name": "Python 3",
   "language": "python",
   "name": "python3"
  },
  "language_info": {
   "codemirror_mode": {
    "name": "ipython",
    "version": 3
   },
   "file_extension": ".py",
   "mimetype": "text/x-python",
   "name": "python",
   "nbconvert_exporter": "python",
   "pygments_lexer": "ipython3",
   "version": "3.11.4"
  },
  "orig_nbformat": 4
 },
 "nbformat": 4,
 "nbformat_minor": 2
}

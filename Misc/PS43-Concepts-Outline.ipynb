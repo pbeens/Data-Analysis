{
  "nbformat": 4,
  "nbformat_minor": 0,
  "metadata": {
    "colab": {
      "provenance": [],
      "toc_visible": true
    },
    "kernelspec": {
      "name": "python3",
      "display_name": "Python 3"
    },
    "language_info": {
      "name": "python"
    }
  },
  "cells": [
    {
      "cell_type": "markdown",
      "source": [
        "# Intro"
      ],
      "metadata": {
        "id": "WFSNMkzHyXHw"
      }
    },
    {
      "cell_type": "markdown",
      "source": [
        "Based on David Hay's notebook found [here](https://github.com/callysto/basketball-and-data-science/blob/main/notebooks/03-cleaning-and-visualizing.ipynb).\n",
        "- <david.hay@cybera.ca>\n",
        "- Peter's [Colab copy](https://colab.research.google.com/drive/1YDCS85e1QLn2yayh9GzhTCdNfTIN1PXP?usp=sharing)"
      ],
      "metadata": {
        "id": "ThoyCsieyZks"
      }
    },
    {
      "cell_type": "markdown",
      "source": [
        "# Python Intro (Cursory)"
      ],
      "metadata": {
        "id": "q8_KyRBAzfv5"
      }
    },
    {
      "cell_type": "markdown",
      "source": [
        "*Prompt: Tell me why Python is a great language for learning about data analysis.*\n",
        "\n",
        "Python is a great language for learning about data analysis for many reasons. Here are some of them:\n",
        "\n",
        "- Python is **easy to learn** and **readable**. It has a simple and English-like syntax that makes it beginner-friendly and intuitive. You don't need to know a lot of technical details or math to start working with Python²⁶.\n",
        "- Python is **versatile** and **flexible**. You can use it for many different purposes, such as web development, artificial intelligence, internet of things, etc. You can also write scripts, run interactive notebooks, or create applications with Python¹².\n",
        "- Python has a **huge collection of libraries** that can help you with data analysis. These are pre-written code packages that can handle common tasks, such as data manipulation, visualization, statistics, machine learning, etc. Some of the most popular libraries are Pandas, NumPy, Matplotlib, SciPy, Scikit-learn, and more¹²³⁵.\n",
        "- Python has a **built-in data analytics tool** called Jupyter Notebook. This is an interactive environment where you can write and run Python code, display graphs and charts, document your findings, and share your work with others³⁵.\n",
        "\n",
        "These are just some of the reasons why Python is a great choice for data analysis. Have fun! 😊\n",
        "\n",
        "Source: Conversation with Bing, 2023-05-19\n",
        "\n",
        "(1) Why Is Python a Great Choice For Data Analysis? - Ideamotive. https://www.ideamotive.co/blog/python-for-data-analysis.\n",
        "\n",
        "(2) Python for Data Science - GeeksforGeeks. https://www.geeksforgeeks.org/python-for-data-science/.\n",
        "\n",
        "(3) Why Python is Essential for Data Analysis? - Section. https://www.section.io/engineering-education/why-python-is-essential-for-data-analysis/.\n",
        "\n",
        "(4) Why You Should Learn Python for Data Science & Analysis - Codecademy. https://www.codecademy.com/resources/blog/*why*-you-should-learn-python-for-data-science/.\n",
        "\n",
        "(5) Learning Python for Data Analysis - Columbia Engineering Boot Camps. https://bootcamp.cvn.columbia.edu/blog/learning-python-for-data-analysis/.\n",
        "\n",
        "(6) Why Python Is a Great Choice for Data Analysis - AlixaProDev. https://www.alixaprodev.com/why-python-is-a-great-choice-for-data-analysis/."
      ],
      "metadata": {
        "id": "gWSG6EotAX3l"
      }
    },
    {
      "cell_type": "markdown",
      "source": [
        "## TODO\n",
        "\n",
        "- give examples of where Python can be run from (online and downloaded)\n",
        "- create an example program that shows a working Python program that this tutorial will build up to. "
      ],
      "metadata": {
        "id": "2ISaAqTGEA2q"
      }
    },
    {
      "cell_type": "markdown",
      "source": [
        "# Libraries"
      ],
      "metadata": {
        "id": "lsVcbIeozlTS"
      }
    },
    {
      "cell_type": "markdown",
      "source": [
        "*Prompt: Give some examples of common libraries and what they are used for.*\n",
        "\n",
        "Python is a versatile and powerful programming language that has many libraries for different purposes. Some common Python libraries are:\n",
        "\n",
        "- **Requests**¹: This library makes it easy to send HTTP requests and interact with web APIs. You can use it to download files, scrape websites, or access online data sources.\n",
        "- **NumPy**³: This library provides fast and efficient numerical computing with arrays and matrices. You can use it to perform mathematical operations, linear algebra, statistics, or image processing.\n",
        "- **Pandas**³: This library offers data analysis and manipulation tools for working with tabular and structured data. You can use it to read, write, filter, sort, group, or reshape data from various formats such as CSV, Excel, JSON, or SQL.\n",
        "- **Matplotlib**⁴: This library is a 2-D plotting library that allows you to create various types of graphs and charts. You can use it to visualize data, explore trends, or communicate results.\n",
        "\n",
        "Some Python libraries that might be worth investigating are:\n",
        "\n",
        "- **PyGame**: This library is a framework for making video games in Python. You can use it to create interactive graphics, sound, animation, or user input for your own games.\n",
        "- **Turtle**: This library is a module for drawing shapes and patterns using a virtual turtle. You can use it to learn programming concepts, create art, or have fun with geometry.\n",
        "- **NLTK**: This library is a toolkit for natural language processing (NLP). You can use it to analyze text, extract information, generate sentences, or build chatbots.\n",
        "- **OpenCV**: This library is a library for computer vision and machine learning. You can use it to process images, detect faces, recognize objects, or apply filters.\n",
        "\n",
        "Here are some examples of how these libraries might be used:\n",
        "\n",
        "- PyGame: You can make a simple game like Pong or Snake by using PyGame's sprites, surfaces, events, and sounds. You can also follow tutorials or online courses to learn how to make more complex games like Flappy Bird or Tetris.\n",
        "- Turtle: You can draw shapes like circles, squares, triangles, or polygons by using Turtle's methods like forward(), backward(), left(), right(), or penup(). You can also use loops or functions to create patterns like spirals, stars, or fractals.\n",
        "- NLTK: You can analyze text like tweets, reviews, or news articles by using NLTK's modules like tokenize(), tag(), chunk(), or sentiment(). You can also generate text like jokes, stories, or poems by using NLTK's models like ngrams(), markovify(), or gpt2().\n",
        "- OpenCV: You can process images like selfies, memes, or cartoons by using OpenCV's functions like imread(), imshow(), cvtColor(), or resize(). You can also detect faces by using OpenCV's classifiers like haarcascade_frontalface_default.xml() or lbp_frontalface_improved.xml().\n",
        "\n",
        "Source: Conversation with Bing, 2023-05-19\n",
        "\n",
        "(1) 24 Best Python Libraries You Should Check in 2023 - Hackr. https://hackr.io/blog/best-python-libraries.\n",
        "\n",
        "(2) Most Popular Python Packages in 2021 | LearnPython.com. https://learnpython.com/blog/most-popular-python-packages/.\n",
        "\n",
        "(3) Top 8 Python Libraries for Data Visualization - GeeksforGeeks. https://www.geeksforgeeks.org/top-8-python-libraries-for-data-visualization/.\n",
        "\n",
        "(4) The Python Standard Library — Python 3.11.3 documentation. https://docs.python.org/3/library/index.html.\n",
        "\n",
        "\n",
        "---\n",
        "\n"
      ],
      "metadata": {
        "id": "7EYhhxLiz_Nn"
      }
    },
    {
      "cell_type": "markdown",
      "source": [
        "This code imports the Pandas library and gives it an alias of pd. Pandas is a \n",
        "Python module (library) that is used for data manipulation and analysis. By \n",
        "using pd, you can access the functions and methods of Pandas without typing the \n",
        "full name every time. For example, you can create a data frame with `pd.DataFrame()` instead of `pandas.DataFrame()`. This makes your code shorter and easier to read."
      ],
      "metadata": {
        "id": "PNuJv0XjCqNW"
      }
    },
    {
      "cell_type": "code",
      "source": [
        "import pandas as pd"
      ],
      "metadata": {
        "id": "KsZX1FArz9fl"
      },
      "execution_count": 2,
      "outputs": []
    },
    {
      "cell_type": "markdown",
      "source": [
        "# Let's Get Some Data!"
      ],
      "metadata": {
        "id": "VXNYZwpozo7W"
      }
    },
    {
      "cell_type": "markdown",
      "source": [
        "## TODO\n",
        "\n",
        "Need overview here"
      ],
      "metadata": {
        "id": "sMdCTKV-0RZG"
      }
    },
    {
      "cell_type": "markdown",
      "source": [
        "This code uses the pd.read_html() function to read the HTML tables from the given URL and store them in a variable called page. The URL is a web page that contains the standings of the NBA teams for the 2022-2023 season. The pd.read_html() function returns a list of data frames, one for each table on the web page. You can access each data frame by its index, such as page[0] for the first table. This way, you can extract and analyze the data from the web page using Pandas."
      ],
      "metadata": {
        "id": "LvwyuRhZCm5X"
      }
    },
    {
      "cell_type": "code",
      "source": [
        "page = pd.read_html('https://www.basketball-reference.com/leagues/NBA_2023_standings.html')"
      ],
      "metadata": {
        "id": "dL4hjVK50Ry1"
      },
      "execution_count": 3,
      "outputs": []
    },
    {
      "cell_type": "code",
      "source": [
        "# Get help on pd.read_html\n",
        "help(pd.read_html)"
      ],
      "metadata": {
        "id": "kV9p96ep1-JU"
      },
      "execution_count": null,
      "outputs": []
    },
    {
      "cell_type": "markdown",
      "source": [
        "# Quick Check of the Data We Imported"
      ],
      "metadata": {
        "id": "fasRrO-3zy2k"
      }
    },
    {
      "cell_type": "markdown",
      "source": [],
      "metadata": {
        "id": "-lRZmO8j0U6V"
      }
    },
    {
      "cell_type": "code",
      "source": [
        "print(page)"
      ],
      "metadata": {
        "id": "3_slpDMS0ZqC"
      },
      "execution_count": null,
      "outputs": []
    },
    {
      "cell_type": "markdown",
      "source": [
        "## Assignment \n",
        "\n",
        "Get data from https://en.wikipedia.org/wiki/National_Basketball_Association so we can analyze Arena Capacity."
      ],
      "metadata": {
        "id": "wQZ_PR-_3mkQ"
      }
    },
    {
      "cell_type": "markdown",
      "source": [
        "### TODO\n",
        "\n",
        "Create notebook stub for them to experiment with"
      ],
      "metadata": {
        "id": "C8y2jF9o5wSI"
      }
    },
    {
      "cell_type": "markdown",
      "source": [
        "### Solution"
      ],
      "metadata": {
        "id": "2KLT0XIJ31qi"
      }
    },
    {
      "cell_type": "code",
      "source": [
        "import pandas as pd\n",
        "page = pd.read_html('https://en.wikipedia.org/wiki/National_Basketball_Association')\n",
        "print(page)"
      ],
      "metadata": {
        "id": "sK6G9AnT34jx"
      },
      "execution_count": null,
      "outputs": []
    },
    {
      "cell_type": "markdown",
      "source": [
        "**Question**\n",
        "\n",
        "What other data might be interesting for teenagers to analyze?"
      ],
      "metadata": {
        "id": "YcOQd2TT5VEF"
      }
    },
    {
      "cell_type": "markdown",
      "source": [
        "# Python Lists (Intro to Indexing)"
      ],
      "metadata": {
        "id": "5iedY9DG0nxx"
      }
    },
    {
      "cell_type": "markdown",
      "source": [
        "Give some examples. Extract one of the tables from the `page` variable."
      ],
      "metadata": {
        "id": "Ya-iE2lj0rk0"
      }
    },
    {
      "cell_type": "code",
      "source": [],
      "metadata": {
        "id": "r06KKX0d02xA"
      },
      "execution_count": null,
      "outputs": []
    },
    {
      "cell_type": "markdown",
      "source": [],
      "metadata": {
        "id": "p6NYxSTIz4bn"
      }
    },
    {
      "cell_type": "code",
      "source": [
        "for table in page:\n",
        "    display(table)"
      ],
      "metadata": {
        "id": "lBrziP4a0VWQ"
      },
      "execution_count": null,
      "outputs": []
    },
    {
      "cell_type": "markdown",
      "source": [
        "# Playground"
      ],
      "metadata": {
        "id": "LRIMwjes-fwT"
      }
    },
    {
      "cell_type": "code",
      "source": [
        "# Import libraries\n",
        "import requests\n",
        "import pandas as pd\n",
        "import matplotlib.pyplot as plt\n",
        "\n",
        "# Specify URL\n",
        "url = \"https://en.wikipedia.org/wiki/National_Basketball_Association\"\n",
        "\n",
        "# Read table data from HTML using pandas\n",
        "dfs = pd.read_html(url)\n",
        "\n",
        "# for n, df in enumerate(dfs):\n",
        "#     print('Table', n, '\\n\\n', df)\n",
        "\n",
        "print(dfs[3])\n",
        "# # Select the data frame that contains the table with class \"wikitable sortable\"\n",
        "# df = dfs[1]\n",
        "\n",
        "# # Rename the columns\n",
        "# df.columns = [\"Team\", \"Division\", \"City\", \"Arena\", \"Capacity\", \"Joined\"]\n",
        "\n",
        "# # Drop the rows with NaN values\n",
        "# df = df.dropna()\n",
        "\n",
        "# # Convert capacity column to numeric values\n",
        "# df[\"Capacity\"] = pd.to_numeric(df[\"Capacity\"].str.replace(\",\", \"\"))\n",
        "\n",
        "# # Plot data frame as a bar chart\n",
        "# df.plot(x=\"Team\", y=\"Capacity\", kind=\"bar\", figsize=(15, 10), title=\"NBA Teams Capacity\")\n",
        "# plt.show()\n"
      ],
      "metadata": {
        "colab": {
          "base_uri": "https://localhost:8080/"
        },
        "id": "7_snNu2s-hiv",
        "outputId": "3d67e82b-0e86-4e6c-e336-40bd4482b8df"
      },
      "execution_count": 5,
      "outputs": [
        {
          "output_type": "stream",
          "name": "stdout",
          "text": [
            "              Division                    Team                    Location  \\\n",
            "    Eastern Conference      Eastern Conference          Eastern Conference   \n",
            "0             Atlantic          Boston Celtics       Boston, Massachusetts   \n",
            "1             Atlantic           Brooklyn Nets     New York City, New York   \n",
            "2             Atlantic         New York Knicks     New York City, New York   \n",
            "3             Atlantic      Philadelphia 76ers  Philadelphia, Pennsylvania   \n",
            "4             Atlantic         Toronto Raptors            Toronto, Ontario   \n",
            "5              Central           Chicago Bulls           Chicago, Illinois   \n",
            "6              Central     Cleveland Cavaliers             Cleveland, Ohio   \n",
            "7              Central         Detroit Pistons           Detroit, Michigan   \n",
            "8              Central          Indiana Pacers       Indianapolis, Indiana   \n",
            "9              Central         Milwaukee Bucks        Milwaukee, Wisconsin   \n",
            "10           Southeast           Atlanta Hawks            Atlanta, Georgia   \n",
            "11           Southeast       Charlotte Hornets   Charlotte, North Carolina   \n",
            "12           Southeast              Miami Heat              Miami, Florida   \n",
            "13           Southeast           Orlando Magic            Orlando, Florida   \n",
            "14           Southeast      Washington Wizards            Washington, D.C.   \n",
            "15  Western Conference      Western Conference          Western Conference   \n",
            "16           Northwest          Denver Nuggets            Denver, Colorado   \n",
            "17           Northwest  Minnesota Timberwolves      Minneapolis, Minnesota   \n",
            "18           Northwest   Oklahoma City Thunder     Oklahoma City, Oklahoma   \n",
            "19           Northwest  Portland Trail Blazers            Portland, Oregon   \n",
            "20           Northwest               Utah Jazz        Salt Lake City, Utah   \n",
            "21             Pacific   Golden State Warriors   San Francisco, California   \n",
            "22             Pacific    Los Angeles Clippers     Los Angeles, California   \n",
            "23             Pacific      Los Angeles Lakers     Los Angeles, California   \n",
            "24             Pacific            Phoenix Suns            Phoenix, Arizona   \n",
            "25             Pacific        Sacramento Kings      Sacramento, California   \n",
            "26           Southwest        Dallas Mavericks               Dallas, Texas   \n",
            "27           Southwest         Houston Rockets              Houston, Texas   \n",
            "28           Southwest       Memphis Grizzlies          Memphis, Tennessee   \n",
            "29           Southwest    New Orleans Pelicans      New Orleans, Louisiana   \n",
            "30           Southwest       San Antonio Spurs          San Antonio, Texas   \n",
            "\n",
            "                         Arena            Capacity  \\\n",
            "            Eastern Conference  Eastern Conference   \n",
            "0                    TD Garden               19156   \n",
            "1              Barclays Center               17732   \n",
            "2        Madison Square Garden               19812   \n",
            "3           Wells Fargo Center               20478   \n",
            "4             Scotiabank Arena               19800   \n",
            "5                United Center               20917   \n",
            "6   Rocket Mortgage FieldHouse               19432   \n",
            "7         Little Caesars Arena               20332   \n",
            "8        Gainbridge Fieldhouse               17923   \n",
            "9                 Fiserv Forum               17341   \n",
            "10            State Farm Arena               16600   \n",
            "11             Spectrum Center               19077   \n",
            "12               Kaseya Center               19600   \n",
            "13                Amway Center               18846   \n",
            "14           Capital One Arena               20356   \n",
            "15          Western Conference  Western Conference   \n",
            "16                  Ball Arena               19520   \n",
            "17               Target Center               18798   \n",
            "18               Paycom Center               18203   \n",
            "19                 Moda Center               19393   \n",
            "20                Vivint Arena               18306   \n",
            "21                Chase Center               18064   \n",
            "22            Crypto.com Arena               19079   \n",
            "23            Crypto.com Arena               19079   \n",
            "24            Footprint Center               16645   \n",
            "25             Golden 1 Center               17608   \n",
            "26    American Airlines Center               19200   \n",
            "27               Toyota Center               18055   \n",
            "28                  FedExForum               18119   \n",
            "29        Smoothie King Center               16867   \n",
            "30                 AT&T Center               18418   \n",
            "\n",
            "                                          Coordinates             Founded  \\\n",
            "                                   Eastern Conference  Eastern Conference   \n",
            "0   .mw-parser-output .geo-default,.mw-parser-outp...                1946   \n",
            "1    40°40′58″N 73°58′29″W﻿ / ﻿40.68265°N 73.974689°W               1967*   \n",
            "2   40°45′02″N 73°59′37″W﻿ / ﻿40.750556°N 73.993611°W                1946   \n",
            "3   39°54′04″N 75°10′19″W﻿ / ﻿39.901111°N 75.171944°W               1946*   \n",
            "4   43°38′36″N 79°22′45″W﻿ / ﻿43.643333°N 79.379167°W                1995   \n",
            "5   41°52′50″N 87°40′27″W﻿ / ﻿41.880556°N 87.674167°W                1966   \n",
            "6   41°29′47″N 81°41′17″W﻿ / ﻿41.496389°N 81.688056°W                1970   \n",
            "7      42°20′28″N 83°03′18″W﻿ / ﻿42.341111°N 83.055°W               1941*   \n",
            "8   39°45′50″N 86°09′20″W﻿ / ﻿39.763889°N 86.155556°W                1967   \n",
            "9   43°02′37″N 87°55′01″W﻿ / ﻿43.043611°N 87.916944°W                1968   \n",
            "10  33°45′26″N 84°23′47″W﻿ / ﻿33.757222°N 84.396389°W               1946*   \n",
            "11     35°13′30″N 80°50′21″W﻿ / ﻿35.225°N 80.839167°W               1988*   \n",
            "12  25°46′53″N 80°11′17″W﻿ / ﻿25.781389°N 80.188056°W                1988   \n",
            "13  28°32′21″N 81°23′01″W﻿ / ﻿28.539167°N 81.383611°W                1989   \n",
            "14  38°53′53″N 77°01′15″W﻿ / ﻿38.898056°N 77.020833°W               1961*   \n",
            "15                                 Western Conference  Western Conference   \n",
            "16  39°44′55″N 105°00′27″W﻿ / ﻿39.748611°N 105.0075°W                1967   \n",
            "17  44°58′46″N 93°16′34″W﻿ / ﻿44.979444°N 93.276111°W                1989   \n",
            "18     35°27′48″N 97°30′54″W﻿ / ﻿35.463333°N 97.515°W               1967*   \n",
            "19  45°31′54″N 122°40′00″W﻿ / ﻿45.531667°N 122.666...                1970   \n",
            "20  40°46′06″N 111°54′04″W﻿ / ﻿40.768333°N 111.901...               1974*   \n",
            "21  37°46′05″N 122°23′15″W﻿ / ﻿37.768056°N 122.3875°W               1946*   \n",
            "22  34°02′35″N 118°16′02″W﻿ / ﻿34.043056°N 118.267...               1970*   \n",
            "23  34°02′35″N 118°16′02″W﻿ / ﻿34.043056°N 118.267...               1947*   \n",
            "24  33°26′45″N 112°04′17″W﻿ / ﻿33.445833°N 112.071...                1968   \n",
            "25  38°38′57″N 121°31′05″W﻿ / ﻿38.649167°N 121.518...               1923*   \n",
            "26  32°47′26″N 96°48′37″W﻿ / ﻿32.790556°N 96.810278°W                1980   \n",
            "27  29°45′03″N 95°21′44″W﻿ / ﻿29.750833°N 95.362222°W               1967*   \n",
            "28  35°08′18″N 90°03′02″W﻿ / ﻿35.138333°N 90.050556°W               1995*   \n",
            "29  29°56′56″N 90°04′55″W﻿ / ﻿29.948889°N 90.081944°W               2002*   \n",
            "30    29°25′37″N 98°26′15″W﻿ / ﻿29.426944°N 98.4375°W               1967*   \n",
            "\n",
            "                Joined  Unnamed: 8_level_0  \n",
            "    Eastern Conference  Eastern Conference  \n",
            "0                 1946                 NaN  \n",
            "1                 1976                 NaN  \n",
            "2                 1946                 NaN  \n",
            "3                 1949                 NaN  \n",
            "4                 1995                 NaN  \n",
            "5                 1966                 NaN  \n",
            "6                 1970                 NaN  \n",
            "7                 1948                 NaN  \n",
            "8                 1976                 NaN  \n",
            "9                 1968                 NaN  \n",
            "10                1949                 NaN  \n",
            "11               1988*                 NaN  \n",
            "12                1988                 NaN  \n",
            "13                1989                 NaN  \n",
            "14               1961*                 NaN  \n",
            "15  Western Conference  Western Conference  \n",
            "16                1976                 NaN  \n",
            "17                1989                 NaN  \n",
            "18               1967*                 NaN  \n",
            "19                1970                 NaN  \n",
            "20               1974*                 NaN  \n",
            "21               1946*                 NaN  \n",
            "22               1970*                 NaN  \n",
            "23                1948                 NaN  \n",
            "24                1968                 NaN  \n",
            "25                1948                 NaN  \n",
            "26                1980                 NaN  \n",
            "27               1967*                 NaN  \n",
            "28               1995*                 NaN  \n",
            "29               2002*                 NaN  \n",
            "30                1976                 NaN  \n"
          ]
        }
      ]
    },
    {
      "cell_type": "code",
      "source": [],
      "metadata": {
        "id": "kREubeDP-iFX"
      },
      "execution_count": null,
      "outputs": []
    }
  ]
}
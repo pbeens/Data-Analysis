{
 "cells": [
  {
   "attachments": {},
   "cell_type": "markdown",
   "metadata": {},
   "source": [
    "This Python script uses pandas and matplotlib.pyplot to read data from a public Google Sheet, rename one of the columns, create a histogram of the data in that column, and save the histogram as an image file. The program also uses comments to document the code and explain what each line or block of code does. \n",
    "\n",
    "In summary, the program is an example of how to import data from a web-based spreadsheet, manipulate and analyze the data using pandas, and visualize the data using matplotlib.pyplot.\n",
    "\n",
    "---"
   ]
  },
  {
   "attachments": {},
   "cell_type": "markdown",
   "metadata": {},
   "source": [
    "# Input"
   ]
  },
  {
   "attachments": {},
   "cell_type": "markdown",
   "metadata": {},
   "source": [
    "*Import* commands are used in Python to load modules or packages that contain useful functions, classes, or variables that are not built-in to the Python language. By importing a module or package, you can access its contents using a dot notation. For example, if you import the math module, you can use math.pi to get the value of pi.\n",
    "\n",
    "Importing modules or packages can save you time and effort by reusing code that has been written and tested by other developers. It can also help you organize your code better by separating different functionalities into different files.\n",
    "\n",
    "*Comments* are lines that start with a # symbol and are ignored by the Python interpreter. They are useful for making your code more readable and understandable by yourself and others."
   ]
  },
  {
   "cell_type": "code",
   "execution_count": 1,
   "metadata": {},
   "outputs": [],
   "source": [
    "# Import matplotlib.pyplot for plotting graphs and charts\n",
    "import matplotlib.pyplot as plt\n",
    "\n",
    "# Import pandas for data manipulation and analysis\n",
    "import pandas as pd"
   ]
  },
  {
   "attachments": {},
   "cell_type": "markdown",
   "metadata": {},
   "source": [
    "A *Google Sheet* is a web-based spreadsheet that can store and manipulate data online. However, to access a Google Sheet using the pandas function `pd.read_csv()`, which reads data from a comma-separated values (CSV) file, the Google Sheet has to be converted to a CSV format. This can be done by changing the filename ending of the Google Sheet URL to `/export?format=csv`. This tells Google to export the Google Sheet as a CSV file and return the link to the file. The pandas function can then read the data from the link and create a dataframe. \n",
    "\n",
    "However, this only works if the Google Sheet is public, meaning anyone with the link can view it. Otherwise, the pandas function will not be able to access the data without authentication. Therefore, to use `pd.read_csv()` with a Google Sheet, the Google Sheet has to be public and have its filename ending changed to `/export?format=csv`."
   ]
  },
  {
   "cell_type": "code",
   "execution_count": 2,
   "metadata": {},
   "outputs": [
    {
     "data": {
      "text/html": [
       "<div>\n",
       "<style scoped>\n",
       "    .dataframe tbody tr th:only-of-type {\n",
       "        vertical-align: middle;\n",
       "    }\n",
       "\n",
       "    .dataframe tbody tr th {\n",
       "        vertical-align: top;\n",
       "    }\n",
       "\n",
       "    .dataframe thead th {\n",
       "        text-align: right;\n",
       "    }\n",
       "</style>\n",
       "<table border=\"1\" class=\"dataframe\">\n",
       "  <thead>\n",
       "    <tr style=\"text-align: right;\">\n",
       "      <th></th>\n",
       "      <th>Timestamp</th>\n",
       "      <th>Birth Month</th>\n",
       "    </tr>\n",
       "  </thead>\n",
       "  <tbody>\n",
       "    <tr>\n",
       "      <th>0</th>\n",
       "      <td>5/16/2023 6:35:23</td>\n",
       "      <td>March</td>\n",
       "    </tr>\n",
       "    <tr>\n",
       "      <th>1</th>\n",
       "      <td>5/16/2023 6:35:45</td>\n",
       "      <td>May</td>\n",
       "    </tr>\n",
       "    <tr>\n",
       "      <th>2</th>\n",
       "      <td>5/16/2023 6:35:50</td>\n",
       "      <td>March</td>\n",
       "    </tr>\n",
       "    <tr>\n",
       "      <th>3</th>\n",
       "      <td>5/16/2023 6:35:55</td>\n",
       "      <td>August</td>\n",
       "    </tr>\n",
       "  </tbody>\n",
       "</table>\n",
       "</div>"
      ],
      "text/plain": [
       "           Timestamp Birth Month\n",
       "0  5/16/2023 6:35:23       March\n",
       "1  5/16/2023 6:35:45         May\n",
       "2  5/16/2023 6:35:50       March\n",
       "3  5/16/2023 6:35:55      August"
      ]
     },
     "execution_count": 2,
     "metadata": {},
     "output_type": "execute_result"
    }
   ],
   "source": [
    "# Define the URL of the Google sheet that contains the data\n",
    "url = 'https://docs.google.com/spreadsheets/d/1cDt-LlvAN36EBPtyCvgNvzekzEJJWW18c70hbNO2MBg/export?format=csv'\n",
    "\n",
    "# Read the data from the URL as a pandas dataframe\n",
    "df = pd.read_csv(url)\n",
    "\n",
    "# Display the first five rows of the dataframe\n",
    "df.head()"
   ]
  },
  {
   "attachments": {},
   "cell_type": "markdown",
   "metadata": {},
   "source": [
    "# Process"
   ]
  },
  {
   "attachments": {},
   "cell_type": "markdown",
   "metadata": {},
   "source": [
    "No processing is necessary for this program!"
   ]
  },
  {
   "attachments": {},
   "cell_type": "markdown",
   "metadata": {},
   "source": [
    "# Output"
   ]
  },
  {
   "cell_type": "code",
   "execution_count": 3,
   "metadata": {},
   "outputs": [
    {
     "data": {
      "image/png": "[encoded data removed]",
      "text/plain": [
       "<Figure size 640x480 with 1 Axes>"
      ]
     },
     "metadata": {},
     "output_type": "display_data"
    }
   ],
   "source": [
    "# Create a histogram of the birth-month column using matplotlib.pyplot\n",
    "plt.hist(df['Birth Month'])\n",
    "\n",
    "# Add a title and labels to the histogram\n",
    "plt.title('Histogram of Birth Month')\n",
    "plt.xlabel('Birth Month')\n",
    "plt.ylabel('Frequency')\n",
    "\n",
    "# Save the histogram as birth-months.png\n",
    "plt.savefig('Birth-Months.png')\n",
    "\n",
    "# Show the histogram on the screen\n",
    "plt.show()"
   ]
  }
 ],
 "metadata": {
  "kernelspec": {
   "display_name": ".venv",
   "language": "python",
   "name": "python3"
  },
  "language_info": {
   "codemirror_mode": {
    "name": "ipython",
    "version": 3
   },
   "file_extension": ".py",
   "mimetype": "text/x-python",
   "name": "python",
   "nbconvert_exporter": "python",
   "pygments_lexer": "ipython3",
   "version": "3.11.2"
  },
  "orig_nbformat": 4
 },
 "nbformat": 4,
 "nbformat_minor": 2
}

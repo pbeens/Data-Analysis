{
 "cells": [
  {
   "cell_type": "code",
   "execution_count": null,
   "metadata": {},
   "outputs": [],
   "source": [
    "!pip install pandas -q"
   ]
  },
  {
   "attachments": {},
   "cell_type": "markdown",
   "metadata": {},
   "source": [
    "In this code, the `find_table_index` function takes the URL and the name of the table as parameters. It reads the HTML tables from the URL using `pd.read_html()` and searches for the table containing the given name. If a table with the specified name is found, it returns the index of that table. If the table is not found, it returns -1.\n",
    "\n",
    "The program calls the `find_table_index` function and prints the resulting index. If the table is not found, it prints a \"Table not found!\" message.\n",
    "\n",
    "Make sure to have the `pandas` library installed (`pip install pandas`) before running the code.\n",
    "\n",
    "Enter the `URL` and `table_name` before running."
   ]
  },
  {
   "cell_type": "code",
   "execution_count": null,
   "metadata": {},
   "outputs": [],
   "source": [
    "import pandas as pd\n",
    "\n",
    "def find_table_index(url, table_name):\n",
    "    # Read the table from the URL\n",
    "    tables = pd.read_html(url)\n",
    "\n",
    "    # Search for the table by name\n",
    "    for index, table in enumerate(tables):\n",
    "        if table_name in str(table):\n",
    "            return index\n",
    "\n",
    "    # If the table is not found, return -1\n",
    "    return -1\n",
    "\n",
    "# variables\n",
    "url = 'https://en.wikipedia.org/wiki/Population_of_Canada_by_province_and_territory'\n",
    "table_name = 'Population'\n",
    "\n",
    "# Find the index of the table\n",
    "table_index = find_table_index(url, table_name)\n",
    "\n",
    "# Output message\n",
    "# Prints \"table not found\" if the table is not found, otherwise prints the index of the table\n",
    "if table_index == -1:\n",
    "    print(\"Table not found!\") \n",
    "else:\n",
    "    print(f\"The index of the table '{table_name}' is: {table_index}\")"
   ]
  }
 ],
 "metadata": {
  "kernelspec": {
   "display_name": ".venv",
   "language": "python",
   "name": "python3"
  },
  "language_info": {
   "codemirror_mode": {
    "name": "ipython",
    "version": 3
   },
   "file_extension": ".py",
   "mimetype": "text/x-python",
   "name": "python",
   "nbconvert_exporter": "python",
   "pygments_lexer": "ipython3",
   "version": "3.11.4"
  },
  "orig_nbformat": 4
 },
 "nbformat": 4,
 "nbformat_minor": 2
}

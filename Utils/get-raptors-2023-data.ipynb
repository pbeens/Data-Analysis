{
 "cells": [
  {
   "cell_type": "markdown",
   "metadata": {},
   "source": [
    "This program reads in data on NBA players and filters it to only include players on the Toronto Raptors team for the 2022-23 season. It then selects certain columns and merges the resulting dataframe with another dataframe that includes career statistics for each player. The final output is a CSV file that includes the selected columns for each player on the Raptors team for the 2022-23 season, as well as their career statistics."
   ]
  },
  {
   "cell_type": "code",
   "execution_count": 6,
   "metadata": {},
   "outputs": [],
   "source": [
    "import pandas as pd\n",
    "\n",
    "# Create a list of players on the Raptors team for the 2022-23 season\n",
    "raptors_2023 = ['Scottie Barnes',\n",
    "                'Chris Boucher',\n",
    "                'Pascal Siakam',\n",
    "                'Fred VanVleet',\n",
    "                'OG Anunoby',\n",
    "                'Gary Trent Jr.',\n",
    "                'Christian Koloko',\n",
    "                'Precious Achiuwa',\n",
    "                'Thaddeus Young',\n",
    "                'Malachi Flynn',\n",
    "                'Dalano Banton',\n",
    "                'Jakob Poeltl',\n",
    "                'Jeff Dowtin',\n",
    "                'Will Barton',\n",
    "                'Ron Harper Jr.',\n",
    "                'Joe Wieskamp',\n",
    "                'Otto Porter Jr.']\n",
    "\n",
    "# Read in the NBA players dataset\n",
    "df = pd.read_csv('https://raw.githubusercontent.com/callysto/basketball-and-data-science/main/content/data/nba-players.csv')\n",
    "\n",
    "# Filter rows where Team equals Toronto and Season equals 2022-23 and  and Player is in the list of names\n",
    "raptors_2023_df = df[(df['Tm'] == 'TOR') & \n",
    "                     (df['Season'] == '2022-23') & \n",
    "                     (df['Player'].isin(raptors_2023))]\n",
    "\n",
    "# Select columns to keep\n",
    "cols_to_keep = ['Player', 'Age', 'Tm', 'Pos']\n",
    "raptors_2023_df = raptors_2023_df[cols_to_keep]\n",
    "\n",
    "# Filter rows where Season equals Career and Player is in the list of names\n",
    "career_df = df[(df['Season'] == 'Career') & (df['Player'].isin(raptors_2023))]\n",
    "\n",
    "# Select columns to drop\n",
    "cols_to_drop = ['Age', 'Tm', 'Pos']\n",
    "career_df = career_df.drop(cols_to_drop, axis=1)\n",
    "\n",
    "# Merge the dataframes on Player\n",
    "merged_df = pd.merge(raptors_2023_df, career_df, on='Player', how='left')\n",
    "\n",
    "# Write the output file\n",
    "merged_df.to_csv('raptors-2023.csv', index=False)\n"
   ]
  }
 ],
 "metadata": {
  "kernelspec": {
   "display_name": ".venv",
   "language": "python",
   "name": "python3"
  },
  "language_info": {
   "codemirror_mode": {
    "name": "ipython",
    "version": 3
   },
   "file_extension": ".py",
   "mimetype": "text/x-python",
   "name": "python",
   "nbconvert_exporter": "python",
   "pygments_lexer": "ipython3",
   "version": "3.10.5"
  },
  "orig_nbformat": 4
 },
 "nbformat": 4,
 "nbformat_minor": 2
}

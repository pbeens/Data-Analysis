{
 "cells": [
  {
   "cell_type": "code",
   "execution_count": null,
   "metadata": {},
   "outputs": [],
   "source": [
    "# adapted from https://github.com/callysto/basketball-and-data-science/blob/58d01dcd334bed559c8218691450dd2d040f7dfe/content/03-statistics.ipynb\n",
    "\n",
    "import pandas as pd\n",
    "\n",
    "df = pd.read_csv('https://raw.githubusercontent.com/callysto/basketball-and-data-science/main/content/data/nba-players.csv')\n",
    "\n",
    "raptors_2023 = ['Scottie Barnes',\n",
    "                'Chris Boucher',\n",
    "                'Pascal Siakam',\n",
    "                'Fred VanVleet',\n",
    "                'OG Anunoby',\n",
    "                'Gary Trent Jr.',\n",
    "                'Christian Koloko',\n",
    "                'Precious Achiuwa',\n",
    "                'Thaddeus Young',\n",
    "                'Malachi Flynn',\n",
    "                'Dalano Banton',\n",
    "                'Jakob Poeltl',\n",
    "                'Jeff Dowtin',\n",
    "                'Will Barton',\n",
    "                'Ron Harper Jr.',\n",
    "                'Joe Wieskamp',\n",
    "                'Otto Porter Jr.']\n",
    "\n",
    "raptors_stats_df = df[(df['Player'].isin(raptors_2023)) & (df['Season'] == 'Career')]\n",
    "\n",
    "raptors_stats_df.to_csv('raptors-2023.csv')\n",
    "\n",
    "\n"
   ]
  }
 ],
 "metadata": {
  "language_info": {
   "name": "python"
  },
  "orig_nbformat": 4
 },
 "nbformat": 4,
 "nbformat_minor": 2
}

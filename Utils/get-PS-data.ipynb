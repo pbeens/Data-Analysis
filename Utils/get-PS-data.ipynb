{
 "cells": [
  {
   "cell_type": "code",
   "execution_count": null,
   "metadata": {},
   "outputs": [],
   "source": [
    "!pip install nba_api"
   ]
  },
  {
   "cell_type": "code",
   "execution_count": 1,
   "metadata": {},
   "outputs": [
    {
     "ename": "ModuleNotFoundError",
     "evalue": "No module named 'nba_api'",
     "output_type": "error",
     "traceback": [
      "\u001b[1;31m---------------------------------------------------------------------------\u001b[0m",
      "\u001b[1;31mModuleNotFoundError\u001b[0m                       Traceback (most recent call last)",
      "Cell \u001b[1;32mIn[1], line 2\u001b[0m\n\u001b[0;32m      1\u001b[0m \u001b[38;5;28;01mimport\u001b[39;00m \u001b[38;5;21;01mpandas\u001b[39;00m \u001b[38;5;28;01mas\u001b[39;00m \u001b[38;5;21;01mpd\u001b[39;00m\n\u001b[1;32m----> 2\u001b[0m \u001b[38;5;28;01mfrom\u001b[39;00m \u001b[38;5;21;01mnba_api\u001b[39;00m\u001b[38;5;21;01m.\u001b[39;00m\u001b[38;5;21;01mstats\u001b[39;00m\u001b[38;5;21;01m.\u001b[39;00m\u001b[38;5;21;01mendpoints\u001b[39;00m \u001b[38;5;28;01mimport\u001b[39;00m playercareerstats\n\u001b[0;32m      3\u001b[0m \u001b[38;5;28;01mfrom\u001b[39;00m \u001b[38;5;21;01mnba_api\u001b[39;00m\u001b[38;5;21;01m.\u001b[39;00m\u001b[38;5;21;01mstats\u001b[39;00m\u001b[38;5;21;01m.\u001b[39;00m\u001b[38;5;21;01mstatic\u001b[39;00m \u001b[38;5;28;01mimport\u001b[39;00m players\n\u001b[0;32m      5\u001b[0m \u001b[38;5;66;03m# Name of the player\u001b[39;00m\n",
      "\u001b[1;31mModuleNotFoundError\u001b[0m: No module named 'nba_api'"
     ]
    }
   ],
   "source": [
    "import pandas as pd\n",
    "from nba_api.stats.endpoints import playercareerstats\n",
    "from nba_api.stats.static import players\n",
    "\n",
    "# Name of the player\n",
    "player_name = 'Pascal Siakam'\n",
    "\n",
    "# Find player by name\n",
    "player = players.find_players_by_full_name(player_name)[0]\n",
    "\n",
    "# Fetch career statistics for the player\n",
    "career = playercareerstats.PlayerCareerStats(player_id=player['id'])\n",
    "\n",
    "# Assuming you're interested in regular season stats, which is typically the first DataFrame\n",
    "df_career = career.get_data_frames()[0]\n",
    "\n",
    "# Select only the columns of interest\n",
    "columns_of_interest = ['SEASON_ID', 'AGE', 'TEAM_ID', 'LEAGUE_ID', 'PLAYER_POSITION', 'GP', 'GS', 'MIN', 'FGM', 'FGA', 'FG_PCT', 'FG3M', 'FG3A', 'FG3_PCT', 'FG2M', 'FG2A', 'FG2_PCT', 'EFG_PCT', 'FTM', 'FTA', 'FT_PCT', 'OREB', 'DREB', 'REB', 'AST', 'STL', 'BLK', 'TOV', 'PF', 'PTS']\n",
    "df_filtered = df_career[columns_of_interest]\n",
    "\n",
    "# Convert TEAM_ID and LEAGUE_ID to the actual team and league abbreviations or names, if needed\n",
    "\n",
    "# Save to CSV\n",
    "df_filtered.to_csv('pascal_siakam_career_stats.csv', index=False)\n",
    "\n",
    "print('Pascal Siakam career stats have been saved to \"pascal_siakam_career_stats.csv\".')\n"
   ]
  }
 ],
 "metadata": {
  "kernelspec": {
   "display_name": ".venv",
   "language": "python",
   "name": "python3"
  },
  "language_info": {
   "codemirror_mode": {
    "name": "ipython",
    "version": 3
   },
   "file_extension": ".py",
   "mimetype": "text/x-python",
   "name": "python",
   "nbconvert_exporter": "python",
   "pygments_lexer": "ipython3",
   "version": "3.11.4"
  }
 },
 "nbformat": 4,
 "nbformat_minor": 2
}

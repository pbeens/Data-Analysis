{
 "cells": [
  {
   "attachments": {},
   "cell_type": "markdown",
   "metadata": {},
   "source": [
    "Only add this code to your program if you get an SSLCertVerificationError error.\n",
    "\n",
    "This code creates an unverified SSL context that you can use to make requests without verifying the SSL certificate.\n",
    "\n",
    "The ssl._create_default_https_context function is used to create a default SSL context for HTTPS connections. By default, this context verifies the SSL certificate presented by the server.\n",
    "\n",
    "The ssl._create_unverified_context function creates an SSL context that does not verify the SSL certificate presented by the server. This is useful when you are connecting to a server with a self-signed certificate or a certificate signed by a certificate authority that is not trusted by your system."
   ]
  },
  {
   "cell_type": "code",
   "execution_count": 1,
   "metadata": {},
   "outputs": [],
   "source": [
    "import ssl\n",
    "\n",
    "# Create an unverified SSL context that you can use to make requests without verifying the SSL certificate.\n",
    "ssl._create_default_https_context = ssl._create_unverified_context"
   ]
  }
 ],
 "metadata": {
  "kernelspec": {
   "display_name": ".venv",
   "language": "python",
   "name": "python3"
  },
  "language_info": {
   "codemirror_mode": {
    "name": "ipython",
    "version": 3
   },
   "file_extension": ".py",
   "mimetype": "text/x-python",
   "name": "python",
   "nbconvert_exporter": "python",
   "pygments_lexer": "ipython3",
   "version": "3.11.1"
  },
  "orig_nbformat": 4
 },
 "nbformat": 4,
 "nbformat_minor": 2
}

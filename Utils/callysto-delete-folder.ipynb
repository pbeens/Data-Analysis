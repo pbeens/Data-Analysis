{
 "cells": [
  {
   "attachments": {},
   "cell_type": "markdown",
   "id": "59f25b32",
   "metadata": {},
   "source": [
    "This code deletes the directory named in the dir_name variable along with all its contents. \n",
    "\n",
    "Be sure this has been installed in the same folder as the folder you want to delete. \n",
    "\n",
    "Simply change the contents of the `dir_name` variable before running.\n",
    "\n",
    "USE WITH CAUTHION!\n",
    "\n",
    "(Program courtesy of [David Hay](https://github.com/misterhay).)"
   ]
  },
  {
   "cell_type": "code",
   "execution_count": null,
   "id": "795b53c5",
   "metadata": {},
   "outputs": [],
   "source": [
    "import shutil\n",
    "\n",
    "dir_name = 'BADS (OLD)'\n",
    "\n",
    "shutil.rmtree(dir_name)"
   ]
  }
 ],
 "metadata": {
  "kernelspec": {
   "display_name": "Python 3 (ipykernel)",
   "language": "python",
   "name": "python3"
  },
  "language_info": {
   "codemirror_mode": {
    "name": "ipython",
    "version": 3
   },
   "file_extension": ".py",
   "mimetype": "text/x-python",
   "name": "python",
   "nbconvert_exporter": "python",
   "pygments_lexer": "ipython3",
   "version": "3.10.8"
  }
 },
 "nbformat": 4,
 "nbformat_minor": 5
}

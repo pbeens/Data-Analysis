{
 "cells": [
  {
   "cell_type": "markdown",
   "id": "59f25b32",
   "metadata": {},
   "source": [
    "This code deletes the directory named in the dir_name variable along with all its contents. \n",
    "\n",
    "**USE THIS WITH CAUTION AS IT WILL DELETE ALL FILES IN THAT FOLDER!**"
   ]
  },
  {
   "cell_type": "code",
   "execution_count": null,
   "id": "795b53c5",
   "metadata": {},
   "outputs": [],
   "source": [
    "import shutil\n",
    "\n",
    "dir_name = 'Data-Analysis'\n",
    "\n",
    "try:\n",
    "    shutil.rmtree(dir_name)\n",
    "    print('success!')\n",
    "except:\n",
    "    print('directory not deleted')"
   ]
  },
  {
   "cell_type": "code",
   "execution_count": null,
   "id": "cef6317b",
   "metadata": {},
   "outputs": [],
   "source": []
  }
 ],
 "metadata": {
  "kernelspec": {
   "display_name": "Python 3 (ipykernel)",
   "language": "python",
   "name": "python3"
  },
  "language_info": {
   "codemirror_mode": {
    "name": "ipython",
    "version": 3
   },
   "file_extension": ".py",
   "mimetype": "text/x-python",
   "name": "python",
   "nbconvert_exporter": "python",
   "pygments_lexer": "ipython3",
   "version": "3.11.6"
  }
 },
 "nbformat": 4,
 "nbformat_minor": 5
}

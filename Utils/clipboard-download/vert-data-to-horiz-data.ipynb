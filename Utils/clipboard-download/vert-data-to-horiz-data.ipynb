{
 "cells": [
  {
   "attachments": {},
   "cell_type": "markdown",
   "metadata": {},
   "source": [
    "Run this program if you have a data file which looks like this:\n",
    "\n",
    "```\n",
    "SUMMARY\n",
    "Career\n",
    "G\n",
    "363\n",
    "PTS\n",
    "8.5\n",
    "TRB\n",
    "2.7\n",
    "```\n",
    "\n",
    "It will rotate the data to look like this:\n",
    "\n",
    "```\n",
    "SUMMARY,G,PTS,TRB\n",
    "Career,363,8.5,2.7\n",
    "```"
   ]
  },
  {
   "cell_type": "code",
   "execution_count": null,
   "metadata": {},
   "outputs": [],
   "source": [
    "import csv\n",
    "\n",
    "# Read data from a text file\n",
    "with open('data.csv', 'r') as file:\n",
    "    data = file.read().splitlines()\n",
    "\n",
    "# Divide the data into two rows\n",
    "row1 = data[0::2]  # Even-indexed items\n",
    "row2 = data[1::2]  # Odd-indexed items\n",
    "\n",
    "\n",
    "# Write the data to a CSV file\n",
    "with open('rotated_data.csv', 'w', newline='') as csvfile:\n",
    "    writer = csv.writer(csvfile)\n",
    "    writer.writerow(row1)\n",
    "    writer.writerow(row2)\n",
    "\n",
    "print(len(row1) == len(row2))"
   ]
  }
 ],
 "metadata": {
  "kernelspec": {
   "display_name": ".venv",
   "language": "python",
   "name": "python3"
  },
  "language_info": {
   "codemirror_mode": {
    "name": "ipython",
    "version": 3
   },
   "file_extension": ".py",
   "mimetype": "text/x-python",
   "name": "python",
   "nbconvert_exporter": "python",
   "pygments_lexer": "ipython3",
   "version": "3.10.5"
  },
  "orig_nbformat": 4
 },
 "nbformat": 4,
 "nbformat_minor": 2
}

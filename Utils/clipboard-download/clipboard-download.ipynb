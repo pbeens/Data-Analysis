{
 "cells": [
  {
   "attachments": {},
   "cell_type": "markdown",
   "metadata": {},
   "source": [
    "> What's an interesting Wikipedia article that has Canadian content on it that has a table with data that can be plotted?\n",
    "\n",
    "One possible Wikipedia article that has Canadian content on it and has a table with data that can be plotted is **Media of Canada**¹. It has a table that shows the **market share of Canadian media corporations** in 2015, which can be visualized as a pie chart or a bar graph. The article also covers various aspects of Canadian media, such as history, regulation, multiculturalism, and regional differences. It might be interesting to learn how Canada preserves and promotes its cultural identity through media in the face of foreign influences.🇨🇦\n",
    "\n",
    "Source: Conversation with Bing, 2023-06-13\n",
    "\n",
    "1. Media of Canada - Wikipedia. https://en.wikipedia.org/wiki/Media_of_Canada.\n",
    "1. Wikipedia:Unusual articles - Wikipedia. https://en.wikipedia.org/wiki/Wikipedia:Unusual_articles.\n",
    "1. The 49 Most Entertaining Wikipedia Entries Ever Created. https://www.huffpost.com/entry/strangest-wikipedia-entries_n_6463488."
   ]
  },
  {
   "attachments": {},
   "cell_type": "markdown",
   "metadata": {},
   "source": [
    "> I want to write a Python program that uses pd.read_clipboard() to copy and paste the data from that table and then output the data into a CSV file. Show me how to do that. Do not forget to encourage the user to copy the data into the clipboard first."
   ]
  },
  {
   "cell_type": "code",
   "execution_count": 1,
   "metadata": {},
   "outputs": [
    {
     "name": "stdout",
     "output_type": "stream",
     "text": [
      "Please copy the data from the table into the clipboard.\n",
      "                                   Title  Daily newspapers   \n",
      "0     Postmedia Network Inc. / Sun Media                35  \\\n",
      "1              TorStar Corp. / Metroland                12   \n",
      "2                       Black Press Ltd.                 3   \n",
      "3                             snapd Inc.                 0   \n",
      "4   Glacier Media / ALTA Newspaper Group                 5   \n",
      "5                       SaltWire Network                 8   \n",
      "6  TransMet Logistics/Metropolitan Media                 1   \n",
      "7                    Brunswick News Inc.                 3   \n",
      "8                               TC Media                 0   \n",
      "9                         Icimédias inc.                 0   \n",
      "\n",
      "   Community newspapers  Total newspapers  \n",
      "0                    86               121  \n",
      "1                    78               100  \n",
      "2                    85                88  \n",
      "3                    72                72  \n",
      "4                    44                49  \n",
      "5                    25                33  \n",
      "6                    25                26  \n",
      "7                    19                22  \n",
      "8                    21                21  \n",
      "9                    20                20  \n",
      "The CSV file has been created.\n"
     ]
    }
   ],
   "source": [
    "# Import pandas library\n",
    "import pandas as pd\n",
    "\n",
    "# Ask the user to copy the data into the clipboard\n",
    "print(\"Please copy the data from the table into the clipboard.\")\n",
    "\n",
    "# Use pd.read_clipboard() to read the data from the clipboard\n",
    "data = pd.read_clipboard()\n",
    "\n",
    "# Print the data to check if it is correct\n",
    "print(data)\n",
    "\n",
    "# Ask the user to enter a file name for the CSV file\n",
    "file_name = 'data'\n",
    "\n",
    "# Use pd.to_csv() to output the data into a CSV file\n",
    "data.to_csv(file_name + \".csv\", index=False)\n",
    "\n",
    "# Print a message to confirm that the file has been created\n",
    "print(\"The CSV file has been created.\")"
   ]
  }
 ],
 "metadata": {
  "kernelspec": {
   "display_name": ".venv",
   "language": "python",
   "name": "python3"
  },
  "language_info": {
   "codemirror_mode": {
    "name": "ipython",
    "version": 3
   },
   "file_extension": ".py",
   "mimetype": "text/x-python",
   "name": "python",
   "nbconvert_exporter": "python",
   "pygments_lexer": "ipython3",
   "version": "3.11.2"
  },
  "orig_nbformat": 4
 },
 "nbformat": 4,
 "nbformat_minor": 2
}

{
 "cells": [
  {
   "attachments": {},
   "cell_type": "markdown",
   "metadata": {},
   "source": [
    "The program requirements are:\n",
    "\n",
    "- Write a Python program that uses `pd.read_clipboard()` to copy and paste the data from a table on a Wikipedia article that has Canadian content on it and has a table with data that can be plotted.\n",
    "- Output the data into a CSV file named \"data.csv\".\n",
    "- Ask the user to copy the data into the clipboard and wait 5 seconds before processing it."
   ]
  },
  {
   "attachments": {},
   "cell_type": "markdown",
   "metadata": {},
   "source": [
    "> What's an interesting Wikipedia article that has Canadian content on it that has a table with data that can be plotted?\n",
    "\n",
    "One possible Wikipedia article that has Canadian content on it and has a table with data that can be plotted is **Media of Canada**¹. It has a table that shows the **market share of Canadian media corporations** in 2015, which can be visualized as a pie chart or a bar graph. The article also covers various aspects of Canadian media, such as history, regulation, multiculturalism, and regional differences. It might be interesting to learn how Canada preserves and promotes its cultural identity through media in the face of foreign influences.🇨🇦\n",
    "\n",
    "Source: Conversation with Bing, 2023-06-13\n",
    "\n",
    "1. Media of Canada - Wikipedia. https://en.wikipedia.org/wiki/Media_of_Canada.\n",
    "1. Wikipedia:Unusual articles - Wikipedia. https://en.wikipedia.org/wiki/Wikipedia:Unusual_articles.\n",
    "1. The 49 Most Entertaining Wikipedia Entries Ever Created. https://www.huffpost.com/entry/strangest-wikipedia-entries_n_6463488."
   ]
  },
  {
   "cell_type": "code",
   "execution_count": null,
   "metadata": {},
   "outputs": [],
   "source": [
    "# Import pandas library\n",
    "import pandas as pd\n",
    "\n",
    "# Ask the user to hit <Enter> once they have the data on the clipboard\n",
    "input(\"Please hit <Enter> once you have the data on the clipboard: \")\n",
    "\n",
    "# Use pd.read_clipboard() to read the data from the clipboard\n",
    "data = pd.read_clipboard()\n",
    "\n",
    "# Print the data to check if it is correct\n",
    "print(data)\n",
    "\n",
    "# Enter a file name for the CSV file\n",
    "file_name = 'data'\n",
    "\n",
    "# Use pd.to_csv() to output the data into a CSV file\n",
    "data.to_csv(file_name + \".csv\", index=False)\n",
    "\n",
    "# Print a message to confirm that the file has been created\n",
    "print(\"The CSV file has been created.\")"
   ]
  }
 ],
 "metadata": {
  "kernelspec": {
   "display_name": ".venv",
   "language": "python",
   "name": "python3"
  },
  "language_info": {
   "codemirror_mode": {
    "name": "ipython",
    "version": 3
   },
   "file_extension": ".py",
   "mimetype": "text/x-python",
   "name": "python",
   "nbconvert_exporter": "python",
   "pygments_lexer": "ipython3",
   "version": "3.11.4"
  },
  "orig_nbformat": 4
 },
 "nbformat": 4,
 "nbformat_minor": 2
}

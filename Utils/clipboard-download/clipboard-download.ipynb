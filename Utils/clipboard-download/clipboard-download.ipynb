{
 "cells": [
  {
   "attachments": {},
   "cell_type": "markdown",
   "metadata": {},
   "source": [
    "The program requirements are:\n",
    "\n",
    "- Write a Python program that uses `pd.read_clipboard()` to copy and paste the data from a table on a Wikipedia article that has Canadian content on it and has a table with data that can be plotted.\n",
    "- Output the data into a CSV file named \"data.csv\".\n",
    "- Ask the user to copy the data into the clipboard and wait 5 seconds before processing it."
   ]
  },
  {
   "attachments": {},
   "cell_type": "markdown",
   "metadata": {},
   "source": [
    "> What's an interesting Wikipedia article that has Canadian content on it that has a table with data that can be plotted?\n",
    "\n",
    "One possible Wikipedia article that has Canadian content on it and has a table with data that can be plotted is **Media of Canada**¹. It has a table that shows the **market share of Canadian media corporations** in 2015, which can be visualized as a pie chart or a bar graph. The article also covers various aspects of Canadian media, such as history, regulation, multiculturalism, and regional differences. It might be interesting to learn how Canada preserves and promotes its cultural identity through media in the face of foreign influences.🇨🇦\n",
    "\n",
    "Source: Conversation with Bing, 2023-06-13\n",
    "\n",
    "1. Media of Canada - Wikipedia. https://en.wikipedia.org/wiki/Media_of_Canada.\n",
    "1. Wikipedia:Unusual articles - Wikipedia. https://en.wikipedia.org/wiki/Wikipedia:Unusual_articles.\n",
    "1. The 49 Most Entertaining Wikipedia Entries Ever Created. https://www.huffpost.com/entry/strangest-wikipedia-entries_n_6463488."
   ]
  },
  {
   "cell_type": "code",
   "execution_count": 3,
   "metadata": {},
   "outputs": [
    {
     "name": "stdout",
     "output_type": "stream",
     "text": [
      "   Newfoundland and Labrador (map)   523,043   525,972   528,818   531,948  \\\n",
      "0       Prince Edward Island (map)    168358    170688    172707    173954   \n",
      "1                Nova Scotia (map)   1007360   1019725   1030953   1037782   \n",
      "2              New Brunswick (map)    802862    812061    820786    825474   \n",
      "3                     Quebec (map)   8650692   8695659   8751352   8787554   \n",
      "4                    Ontario (map)  14996014  15109416  15262660  15386407   \n",
      "5                   Manitoba (map)   1401967   1409223   1420228   1431792   \n",
      "6               Saskatchewan (map)   1188338   1194803   1205119   1214618   \n",
      "7                    Alberta (map)   4502858   4543111   4601314   4647178   \n",
      "8           British Columbia (map)   5273809   5319324   5368266   5399118   \n",
      "9                      Yukon (map)     43518     43789     43964     44238   \n",
      "10    Northwest Territories5 (map)     45698     45605     45602     45493   \n",
      "11                  Nunavut5 (map)     40403     40526     40586     40692   \n",
      "\n",
      "     533,710  \n",
      "0     176113  \n",
      "1    1047232  \n",
      "2     831618  \n",
      "3    8831257  \n",
      "4   15500632  \n",
      "5    1444190  \n",
      "6    1221439  \n",
      "7    4703772  \n",
      "8    5437722  \n",
      "9      44412  \n",
      "10     45668  \n",
      "11     40715  \n",
      "The CSV file has been created.\n"
     ]
    }
   ],
   "source": [
    "# Import pandas library\n",
    "import pandas as pd\n",
    "\n",
    "# Ask the user to hit <Enter> once they have the data on the clipboard\n",
    "input(\"Please hit <Enter> once you have the data on the clipboard: \")\n",
    "\n",
    "# Use pd.read_clipboard() to read the data from the clipboard\n",
    "df = pd.read_clipboard()\n",
    "\n",
    "# Replace any commas in the data\n",
    "df.iloc[1:] = df.iloc[1:].replace(',', '', regex=True)\n",
    "\n",
    "# Print the data to check if it is correct\n",
    "print(df)\n",
    "\n",
    "# Enter a file name for the CSV file\n",
    "file_name = 'data'\n",
    "\n",
    "# Use pd.to_csv() to output the data into a CSV file\n",
    "df.to_csv(file_name + \".csv\", index=False)\n",
    "\n",
    "# Print a message to confirm that the file has been created\n",
    "print(\"The CSV file has been created.\")"
   ]
  }
 ],
 "metadata": {
  "kernelspec": {
   "display_name": ".venv",
   "language": "python",
   "name": "python3"
  },
  "language_info": {
   "codemirror_mode": {
    "name": "ipython",
    "version": 3
   },
   "file_extension": ".py",
   "mimetype": "text/x-python",
   "name": "python",
   "nbconvert_exporter": "python",
   "pygments_lexer": "ipython3",
   "version": "3.10.5"
  },
  "orig_nbformat": 4
 },
 "nbformat": 4,
 "nbformat_minor": 2
}

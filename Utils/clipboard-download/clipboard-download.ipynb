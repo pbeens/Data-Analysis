{
 "cells": [
  {
   "cell_type": "markdown",
   "metadata": {},
   "source": [
    "# PC and Mac Version"
   ]
  },
  {
   "cell_type": "code",
   "execution_count": null,
   "metadata": {},
   "outputs": [],
   "source": [
    "# Import pandas library\n",
    "import pandas as pd\n",
    "import pyperclip # (needed on Callysto?)\n",
    "\n",
    "# Ask the user to hit <Enter> once they have the data on the clipboard\n",
    "input(\"Please hit <Enter> once you have the data on the clipboard: \")\n",
    "\n",
    "# Use pd.read_clipboard() to read the data from the clipboard\n",
    "df = pd.read_clipboard()\n",
    "\n",
    "# Replace any commas in the data\n",
    "df = df.replace(',', '', regex=True)\n",
    "\n",
    "# Print the data to check if it is correct\n",
    "print(df)\n",
    "\n",
    "# Enter a file name for the CSV file\n",
    "file_name = 'data'\n",
    "\n",
    "# Use pd.to_csv() to output the data into a CSV file\n",
    "df.to_csv(file_name + \".csv\", index=False)\n",
    "\n",
    "# Print a message to confirm that the file has been created\n",
    "print(\"The CSV file has been created. ALWAYS CHECK THE FILE FOR ERRORS!\")"
   ]
  },
  {
   "cell_type": "markdown",
   "metadata": {},
   "source": [
    "# Callysto and Colab Version"
   ]
  },
  {
   "attachments": {},
   "cell_type": "markdown",
   "metadata": {},
   "source": [
    "Open in \n",
    "[Callysto](https://hub.callysto.ca/jupyter/hub/user-redirect/git-pull?repo=https://github.com/pbeens/Data-Analysis&branch=main&subPath=Utils/clipboard-download/clipboard-download.ipynb&depth=1) | [Colab](https://githubtocolab.com/pbeens/Data-Analysis/blob/main/Utils/clipboard-download/clipboard-download.ipynb)."
   ]
  },
  {
   "cell_type": "markdown",
   "metadata": {},
   "source": [
    "Create a Google Sheet **[here](https://sheets.new)** and paste the url below (where is says `url = ...`)."
   ]
  },
  {
   "cell_type": "code",
   "execution_count": null,
   "metadata": {},
   "outputs": [],
   "source": [
    "import pandas as pd\n",
    "\n",
    "# Enter the URL of the Google Sheets file\n",
    "url = 'https://docs.google.com/spreadsheets/d/1GrxrCS4a0dKA_6cSpYSKMDw1c2cEgFiTIPDlIn8lbVs/edit#gid=0'\n",
    "\n",
    "# Enter a file name for the CSV file\n",
    "file_name = 'data.csv'\n",
    "\n",
    "# Replace 'edit' with 'export?format=csv' in the URL to download the CSV file\n",
    "url_csv = url.replace('edit#gid=0', 'export?format=csv')\n",
    "\n",
    "# Read in the CSV file from the URL and store it in a pandas DataFrame\n",
    "df = pd.read_csv(url_csv)\n",
    "\n",
    "# Write the contents of the DataFrame to a CSV file with no index column\n",
    "df.to_csv(file_name, index=False)\n",
    "\n",
    "# Print a message to confirm that the file has been created\n",
    "print(\"The CSV file has been created. ALWAYS CHECK THE FILE FOR ERRORS!\")"
   ]
  }
 ],
 "metadata": {
  "kernelspec": {
   "display_name": ".venv",
   "language": "python",
   "name": "python3"
  },
  "language_info": {
   "codemirror_mode": {
    "name": "ipython",
    "version": 3
   },
   "file_extension": ".py",
   "mimetype": "text/x-python",
   "name": "python",
   "nbconvert_exporter": "python",
   "pygments_lexer": "ipython3",
   "version": "3.10.5"
  },
  "orig_nbformat": 4
 },
 "nbformat": 4,
 "nbformat_minor": 2
}

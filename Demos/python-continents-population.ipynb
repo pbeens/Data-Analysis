{
 "cells": [
  {
   "cell_type": "code",
   "execution_count": null,
   "metadata": {},
   "outputs": [],
   "source": [
    "import plotly.express as px\n",
    "\n",
    "continents = ['Africa', 'Americas', 'Asia', 'Europe', 'Oceania']\n",
    "\n",
    "for continent in continents:\n",
    "    df = px.data.gapminder().query(\"year == 2007\").query(\"continent == continent\")\n",
    "    fig = px.bar(df, \n",
    "                 x='country', \n",
    "                 y='pop', \n",
    "                 title=continent)\n",
    "    fig.update_xaxes(title='Countries in ' + continent)\n",
    "    fig.update_yaxes(title='Population')\n",
    "    fig.show()\n",
    "    fig.write_html(continent + '.html')"
   ]
  }
 ],
 "metadata": {
  "kernelspec": {
   "display_name": ".venv",
   "language": "python",
   "name": "python3"
  },
  "language_info": {
   "codemirror_mode": {
    "name": "ipython",
    "version": 3
   },
   "file_extension": ".py",
   "mimetype": "text/x-python",
   "name": "python",
   "nbconvert_exporter": "python",
   "pygments_lexer": "ipython3",
   "version": "3.10.5"
  },
  "orig_nbformat": 4
 },
 "nbformat": 4,
 "nbformat_minor": 2
}

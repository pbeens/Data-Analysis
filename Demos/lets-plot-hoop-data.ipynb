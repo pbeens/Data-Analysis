{
 "cells": [
  {
   "cell_type": "markdown",
   "metadata": {},
   "source": [
    "# Let's Plot Hoop Data!"
   ]
  },
  {
   "cell_type": "markdown",
   "metadata": {},
   "source": [
    "Import plotly_express and pandas. Remember that plotly_express is imported as `px` and pandas is imported as `pd`."
   ]
  },
  {
   "cell_type": "code",
   "execution_count": null,
   "metadata": {},
   "outputs": [],
   "source": []
  },
  {
   "cell_type": "markdown",
   "metadata": {},
   "source": [
    "Here is the original URL of the Hoops Google Sheet:\n",
    "\n",
    "https://docs.google.com/spreadsheets/d/1peJis68KbNsD1jKwW32g3VOGCqMmdfjwGdGcpeukli8/edit?resourcekey#gid=1955284808\n",
    "\n",
    "Remember that you have to change in the URL so you can import it as a CSV file. Replace the last part...\n",
    "\n",
    "edit?resourcekey#gid=1955284808 \n",
    "\n",
    "to...\n",
    "\n",
    "export?format=csv\n",
    "\n",
    "Do this in the cell below"
   ]
  },
  {
   "cell_type": "code",
   "execution_count": null,
   "metadata": {},
   "outputs": [],
   "source": [
    "url = ''"
   ]
  },
  {
   "cell_type": "markdown",
   "metadata": {},
   "source": [
    "Now let's read in the CSV file with pandas. We'll call this dataframe `df`. Which pandas function do we use? "
   ]
  },
  {
   "cell_type": "code",
   "execution_count": null,
   "metadata": {},
   "outputs": [],
   "source": [
    "# complete this code!\n",
    "\n",
    "df = pd.read_"
   ]
  },
  {
   "cell_type": "markdown",
   "metadata": {},
   "source": [
    "Now that we have the dataframe, let's look at it using head(), tail(), and columns. Experiment in the cell below."
   ]
  },
  {
   "cell_type": "code",
   "execution_count": null,
   "metadata": {},
   "outputs": [],
   "source": [
    "df."
   ]
  },
  {
   "cell_type": "markdown",
   "metadata": {},
   "source": [
    "Next we're going to create a filter to get our own data. From `df.columns` we know that our name is in the `First Name` field. \n",
    "\n",
    "To create the filter we do this:\n",
    "\n",
    "```\n",
    "filter = df['First Name'] == 'PB' \n",
    "student_df = df[filter]\n",
    "```\n",
    "\n",
    "Use the cell below to filter for your data. You can display your data with `display(student_df)`."
   ]
  },
  {
   "cell_type": "code",
   "execution_count": null,
   "metadata": {},
   "outputs": [],
   "source": []
  }
 ],
 "metadata": {
  "language_info": {
   "name": "python"
  }
 },
 "nbformat": 4,
 "nbformat_minor": 2
}

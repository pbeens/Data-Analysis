{
 "cells": [
  {
   "cell_type": "markdown",
   "metadata": {},
   "source": [
    "# Let's Plot Hoop Data!"
   ]
  },
  {
   "cell_type": "markdown",
   "metadata": {},
   "source": [
    "Open in [Callysto](https://hub.callysto.ca/jupyter/hub/user-redirect/git-pull?repo=https://github.com/pbeens/Data-Analysis&branch=main&subPath=Demos/lets-plot-hoop-data.ipynb&depth=1) | [Colab](https://githubtocolab.com/pbeens/Data-Analysis/blob/main/Demos/lets-plot-hoop-data.ipynb).\n",
    "\n",
    "Note: if you open this in Colab you may need to run this line to install plotly_express:"
   ]
  },
  {
   "cell_type": "code",
   "execution_count": null,
   "metadata": {},
   "outputs": [],
   "source": [
    "%pip install plotly_express"
   ]
  },
  {
   "cell_type": "markdown",
   "metadata": {},
   "source": [
    "First we have to import plotly_express and pandas. Remember that plotly_express is imported as `px` and pandas is imported as `pd`. Do this in the cell below."
   ]
  },
  {
   "cell_type": "code",
   "execution_count": null,
   "metadata": {},
   "outputs": [],
   "source": []
  },
  {
   "cell_type": "markdown",
   "metadata": {},
   "source": [
    "Here is the original URL of the Hoops Google Sheet:\n",
    "\n",
    "https://docs.google.com/spreadsheets/d/1peJis68KbNsD1jKwW32g3VOGCqMmdfjwGdGcpeukli8/edit?resourcekey#gid=1955284808\n",
    "\n",
    "Remember that you have to change in the URL so you can import it as a CSV file. Replace the last part...\n",
    "\n",
    "edit?resourcekey#gid=1955284808 \n",
    "\n",
    "to...\n",
    "\n",
    "export?format=csv\n",
    "\n",
    "Do this in the cell below"
   ]
  },
  {
   "cell_type": "code",
   "execution_count": null,
   "metadata": {},
   "outputs": [],
   "source": [
    "url = ''"
   ]
  },
  {
   "cell_type": "markdown",
   "metadata": {},
   "source": [
    "Now let's read in the CSV file with pandas. We'll call this dataframe `df`. Which pandas function do we use? "
   ]
  },
  {
   "cell_type": "code",
   "execution_count": null,
   "metadata": {},
   "outputs": [],
   "source": [
    "# complete this code!\n",
    "\n",
    "df = pd.read_"
   ]
  },
  {
   "cell_type": "markdown",
   "metadata": {},
   "source": [
    "Now that we have the dataframe, let's look at it using head(), tail(), and columns. Experiment in the cell below."
   ]
  },
  {
   "cell_type": "code",
   "execution_count": null,
   "metadata": {},
   "outputs": [],
   "source": [
    "df."
   ]
  },
  {
   "cell_type": "markdown",
   "metadata": {},
   "source": [
    "Next we're going to create a filter to get our own data. From `df.columns` we know that our name is in the `First Name` field. \n",
    "\n",
    "To create the filter *and* sort the data, we do this:\n",
    "\n",
    "```\n",
    "filter = df['First Name'] == 'PB'\n",
    "student_df = df[filter].sort_values('Shot Distance (feet)')\n",
    "```\n",
    "\n",
    "Note that this creates a new dataframe named `student_df`.\n",
    "\n",
    "Use the cell below to filter and sort your data for your name. You can display your data with `display(student_df)`."
   ]
  },
  {
   "cell_type": "code",
   "execution_count": null,
   "metadata": {},
   "outputs": [],
   "source": [
    "filter = \n",
    "student_df = \n",
    "display(student_df)"
   ]
  },
  {
   "cell_type": "markdown",
   "metadata": {},
   "source": [
    "This next part will convert our data to *Percentage of Shots Made* and put it in a new dataframe named `graph_df`, which we will plot."
   ]
  },
  {
   "cell_type": "code",
   "execution_count": null,
   "metadata": {},
   "outputs": [],
   "source": [
    "graph_df = student_df.groupby('Shot Distance (feet)')['Shot Made?'].mean()*100\n",
    "display(graph_df)"
   ]
  },
  {
   "cell_type": "markdown",
   "metadata": {},
   "source": [
    "Modify the code below, replacing Peter with your name. Run the code and save your graph!"
   ]
  },
  {
   "cell_type": "code",
   "execution_count": null,
   "metadata": {},
   "outputs": [],
   "source": [
    "fig = px.bar(graph_df,\n",
    "    title='Percentage of Shots Made by Peter versus Distance')\n",
    "fig.update_layout(yaxis_title=\"Percentage of Shots Made\")\n",
    "fig.show()"
   ]
  }
 ],
 "metadata": {
  "language_info": {
   "name": "python"
  }
 },
 "nbformat": 4,
 "nbformat_minor": 2
}

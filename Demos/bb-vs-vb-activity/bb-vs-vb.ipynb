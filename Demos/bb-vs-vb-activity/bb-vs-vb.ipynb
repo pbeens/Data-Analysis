{
 "cells": [
  {
   "attachments": {},
   "cell_type": "markdown",
   "metadata": {},
   "source": [
    "Demo Google Sheet Link: https://docs.google.com/spreadsheets/d/1Wd_tC5t_i7bg9qZphxsEfR26wsA1IMlQYXjsdAOEXFc/edit?usp=sharing"
   ]
  },
  {
   "cell_type": "code",
   "execution_count": null,
   "metadata": {},
   "outputs": [],
   "source": [
    "# demo google sheet\n",
    "url = 'https://docs.google.com/spreadsheets/d/1Wd_tC5t_i7bg9qZphxsEfR26wsA1IMlQYXjsdAOEXFc/edit?usp=sharing'"
   ]
  }
 ],
 "metadata": {
  "language_info": {
   "name": "python"
  },
  "orig_nbformat": 4
 },
 "nbformat": 4,
 "nbformat_minor": 2
}

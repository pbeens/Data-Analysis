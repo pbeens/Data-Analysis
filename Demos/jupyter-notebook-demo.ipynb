{
 "cells": [
  {
   "attachments": {},
   "cell_type": "markdown",
   "metadata": {},
   "source": [
    "Open this notebook in [Callysto](https://hub.callysto.ca/jupyter/hub/user-redirect/git-pull?repo=https://github.com/pbeens/Data-Analysis&branch=main&subPath=Demos/jupyter-notebook-demo.ipynb&depth=1) or in [Colab](https://githubtocolab.com/pbeens/Data-Analysis/blob/main/Demos/jupyter-notebook-demo.ipynb).\n",
    "\n",
    "**Class Discussion**: differences between using Colab and Callysto for this demo. "
   ]
  },
  {
   "attachments": {},
   "cell_type": "markdown",
   "metadata": {},
   "source": [
    "---\n",
    "**Jupyter Notebooks** are **web applications** that allow users to create and share documents with live code, equations, visualizations, and text. \n",
    "\n",
    "IPython, a predecessor of Jupyter, started in 2004. In 2011, the first version of Notebooks for **IPython** was released, and in 2014, a spin-off project called Project Jupyter was inroduced. The name Jupyter is an indirect acronym of the three core languages it was designed for: [JUlia](https://julialang.org/), [PYThon](https://www.python.org/), and [R](https://www.r-project.org/).<br>\n",
    "\n",
    "---"
   ]
  },
  {
   "attachments": {},
   "cell_type": "markdown",
   "metadata": {},
   "source": [
    "This is a Markdown cell (or block). \n",
    "\n",
    "Text can be **bold** (`** **`), *italics* (`* *`), ~~struck out~~ (\\~~ ~~), or `monospaced` (\\` `). \n",
    "\n",
    "Double-click on a cell to edit it.\n",
    "\n",
    "> Text can be indented.\n",
    "\n",
    "We can have code blocks:\n",
    "\n",
    "```\n",
    "print('Hello world!')\n",
    "print(2 + 2 * 3)\n",
    "```"
   ]
  },
  {
   "attachments": {},
   "cell_type": "markdown",
   "metadata": {},
   "source": [
    "We can have links, like this: [Google](https://www.google.com/)"
   ]
  },
  {
   "attachments": {},
   "cell_type": "markdown",
   "metadata": {},
   "source": [
    "We can have headers, which makes our Jupyter Notebook more like a book:\n",
    "\n",
    "# Heading level 1\n",
    "\n",
    "Some stuff goes here!"
   ]
  },
  {
   "cell_type": "markdown",
   "metadata": {},
   "source": [
    "## Heading level 2\n",
    "\n",
    "More stuff goes here!"
   ]
  },
  {
   "cell_type": "markdown",
   "metadata": {},
   "source": [
    "### Heading level 3\n",
    "\n",
    "And more here!"
   ]
  },
  {
   "cell_type": "markdown",
   "metadata": {},
   "source": [
    "#### Heading level 4\n",
    "\n",
    "And even more here!"
   ]
  },
  {
   "attachments": {
    "python2.5.png": {
     "image/png": "[encoded data removed]"
    }
   },
   "cell_type": "markdown",
   "metadata": {},
   "source": [
    "Let's not forget pictures!\n",
    "\n",
    "<p align=\"right\">\n",
    "    <img src=\"https://github.com/pbeens/Data-Analysis/blob/main/Images/DALL%C2%B7E_abstract_painting_basketball_and_data%20science.png?raw=true\" alt=\"courtesy: Dall-E, abstract image of a person sinking a basketball\" width=\"20%\"/>\n",
    "</p>\n",
    "\n",
    "![python2.5.png](attachment:python2.5.png)"
   ]
  },
  {
   "attachments": {},
   "cell_type": "markdown",
   "metadata": {},
   "source": [
    "And tables...\n",
    "\n",
    "| X | Y |\n",
    "| :----: | :----: |\n",
    "| 0 | 0 |\n",
    "| 1 | 1 |\n",
    "| 2 | 4 |\n",
    "| 3 | 9 |\n",
    "| 4 | 16 |\n",
    "| 5 | 25 |\n",
    "\n",
    "(See this [file](markdown-tables.md) for more details on Markdown tables.)"
   ]
  },
  {
   "attachments": {},
   "cell_type": "markdown",
   "metadata": {},
   "source": [
    "What if you want a line? (`---`)\n",
    "\n",
    "---"
   ]
  },
  {
   "attachments": {},
   "cell_type": "markdown",
   "metadata": {},
   "source": [
    "These are code blocks, where we can run **Python** programs:"
   ]
  },
  {
   "cell_type": "code",
   "execution_count": null,
   "metadata": {},
   "outputs": [],
   "source": [
    "# Print the string 'Hello world!'\n",
    "print('Hello world!')"
   ]
  },
  {
   "cell_type": "code",
   "execution_count": null,
   "metadata": {},
   "outputs": [],
   "source": [
    "# Assign the string 'Peter' to the variable name\n",
    "name = 'Peter'\n",
    "\n",
    "# Print the string 'Hello' followed by the value of the variable name\n",
    "print('Hello', name)"
   ]
  },
  {
   "cell_type": "markdown",
   "metadata": {},
   "source": [
    "---\n",
    "Back to [Data-Dunkers-README](../Data-Dunkers-README.md) ([GitHub link](https://github.com/pbeens/Data-Analysis/blob/main/Data-Dunkers-README.md))"
   ]
  }
 ],
 "metadata": {
  "kernelspec": {
   "display_name": ".venv",
   "language": "python",
   "name": "python3"
  },
  "language_info": {
   "codemirror_mode": {
    "name": "ipython",
    "version": 3
   },
   "file_extension": ".py",
   "mimetype": "text/x-python",
   "name": "python",
   "nbconvert_exporter": "python",
   "pygments_lexer": "ipython3",
   "version": "3.10.5"
  },
  "orig_nbformat": 4
 },
 "nbformat": 4,
 "nbformat_minor": 2
}

{
 "cells": [
  {
   "attachments": {},
   "cell_type": "markdown",
   "metadata": {},
   "source": [
    "This is a Markdown cell (or block). Text can be **bold**, *italics*, or `monospaced`.\n",
    "\n",
    "> Text can be indented.\n",
    "\n",
    "We can have code blocks:\n",
    "\n",
    "```\n",
    "print('Hello world!')\n",
    "print(2 + 2 * 3)\n",
    "```\n",
    "\n",
    "We can have links, like this: [Google](https://www.google.com/)"
   ]
  },
  {
   "attachments": {},
   "cell_type": "markdown",
   "metadata": {},
   "source": [
    "We can have headers, which makes our Jupyter Notebook more like a book:\n",
    "\n",
    "# Heading level 1\n",
    "\n",
    "Some stuff goes here!\n",
    "\n",
    "## Heading level 2\n",
    "\n",
    "More stuff goes here!\n",
    "\n",
    "### Heading level 3\n",
    "\n",
    "And more here!\n",
    "\n",
    "#### Heading level 4\n",
    "\n",
    "And even more here!"
   ]
  },
  {
   "attachments": {},
   "cell_type": "markdown",
   "metadata": {},
   "source": [
    "----\n",
    "\n",
    "These are code blocks, where we can run **Python** programs:"
   ]
  },
  {
   "cell_type": "code",
   "execution_count": null,
   "metadata": {},
   "outputs": [],
   "source": [
    "# Print the string 'Hello world!'\n",
    "print('Hello world!')"
   ]
  },
  {
   "cell_type": "code",
   "execution_count": null,
   "metadata": {},
   "outputs": [],
   "source": [
    "# Assign the string 'Peter' to the variable name\n",
    "name = 'Peter'\n",
    "\n",
    "# Print the string 'Hello' followed by the value of the variable name\n",
    "print('Hello', name)"
   ]
  }
 ],
 "metadata": {
  "kernelspec": {
   "display_name": ".venv",
   "language": "python",
   "name": "python3"
  },
  "language_info": {
   "codemirror_mode": {
    "name": "ipython",
    "version": 3
   },
   "file_extension": ".py",
   "mimetype": "text/x-python",
   "name": "python",
   "nbconvert_exporter": "python",
   "pygments_lexer": "ipython3",
   "version": "3.11.4"
  },
  "orig_nbformat": 4
 },
 "nbformat": 4,
 "nbformat_minor": 2
}

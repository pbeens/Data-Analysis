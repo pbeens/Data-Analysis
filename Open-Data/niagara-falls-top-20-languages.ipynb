{
 "cells": [
  {
   "cell_type": "markdown",
   "metadata": {},
   "source": [
    "# Analysis of the Most Commonly Spoken Languages at Home in Niagara Falls, Ontario"
   ]
  },
  {
   "cell_type": "markdown",
   "metadata": {},
   "source": [
    "# Introduction"
   ]
  },
  {
   "cell_type": "markdown",
   "metadata": {},
   "source": [
    "The program below creates the following graph, which shows the top 20 languages spoken in Niagara Falls, Ontario, homes. Note that the y-axis is logarithmic due to the high number of English-speakers. \n",
    "\n",
    "![niagara-falls-top-20-languages.png](niagara-falls-top-20-languages.png)\n",
    "\n",
    "## Data Source\n",
    "\n",
    "+ Niagara Falls (Ontario) open data site: https://open.niagarafalls.ca/ \n",
    "+ License terms: https://open.niagarafalls.ca/pages/terms-of-use\n",
    "\n",
    "## Extra Challenges\n",
    "\n",
    "+ Adapt the program for your own jurisdiciton\n",
    "+ Remove the prominent language (English in this case) from the chart to see how it changes.\n",
    "+ (Any other challenges that might be appropriate? Let me know in \"Issues\", above.)"
   ]
  },
  {
   "cell_type": "markdown",
   "metadata": {},
   "source": [
    "## Program Description\n",
    "\n",
    "This program reads in a CSV file containing data on the most commonly spoken languages at home in Niagara Falls, Ontario, homes. It then extracts the columns that contain data on the total number of speakers for each language and creates a new DataFrame with these columns. The program then calculates the total number of speakers for each language and finds the 20 most commonly spoken languages. Finally, it creates a bar chart using Plotly Express to display the top 20 languages and their total number of speakers."
   ]
  },
  {
   "cell_type": "markdown",
   "metadata": {},
   "source": [
    "# Program"
   ]
  },
  {
   "cell_type": "code",
   "execution_count": null,
   "metadata": {},
   "outputs": [],
   "source": [
    "import pandas as pd\n",
    "import plotly.express as px\n",
    "\n",
    "# read in the CSV file\n",
    "data_file = 'https://raw.githubusercontent.com/pbeens/Data-Analysis/main/Open-Data/Niagara-Falls-ON/Niagara-Falls-2021-Census-Language-Spoken-Most-Often-at-Home.csv'\n",
    "nf_languages_df = pd.read_csv(data_file)\n",
    "\n",
    "# extract the columns that contain data on the total number of speakers for each language\n",
    "languages = []\n",
    "for column in nf_languages_df.columns:\n",
    "    if \"(Total)\" in column and len(column) < 100 and column not in ['Single responses (Total)', 'Official languages (Total)'] and not any(x in column for x in [\" and \",\"Other\", \"Multiple\", \"languages\"]):        \n",
    "        languages.append(column)\n",
    "\n",
    "# create a new DataFrame with these columns\n",
    "# the technique used is to overcome a \"DataFrame is highly fragmented.\" error\n",
    "languages_df = pd.concat([nf_languages_df[language].rename(language.replace(\" (Total)\", \"\")) for \n",
    "                          language in languages], axis=1)\n",
    "\n",
    "# calculate the total number of speakers for each language and find the 20 most commonly spoken languages\n",
    "language_totals = languages_df.sum(numeric_only=True)\n",
    "top_languages = language_totals.nlargest(20)\n",
    "\n",
    "# create a bar chart using Plotly Express to display the top 20 languages and their total number of speakers\n",
    "fig = px.bar(top_languages, \n",
    "             x=top_languages.index, \n",
    "             y=top_languages, \n",
    "             log_y=True)\n",
    "fig.update_layout(xaxis_title='Language', \n",
    "                  yaxis_title='Total', \n",
    "                  title='Top 20 Languages in Niagara Falls, Ontario')\n",
    "fig.show()"
   ]
  }
 ],
 "metadata": {
  "kernelspec": {
   "display_name": ".venv",
   "language": "python",
   "name": "python3"
  },
  "language_info": {
   "codemirror_mode": {
    "name": "ipython",
    "version": 3
   },
   "file_extension": ".py",
   "mimetype": "text/x-python",
   "name": "python",
   "nbconvert_exporter": "python",
   "pygments_lexer": "ipython3",
   "version": "3.10.5"
  },
  "orig_nbformat": 4
 },
 "nbformat": 4,
 "nbformat_minor": 2
}

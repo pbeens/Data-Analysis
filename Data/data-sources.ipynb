{
 "cells": [
  {
   "attachments": {},
   "cell_type": "markdown",
   "metadata": {},
   "source": [
    "# Table Names & Index #'s"
   ]
  },
  {
   "cell_type": "code",
   "execution_count": null,
   "metadata": {},
   "outputs": [],
   "source": [
    "import pandas as pd\n",
    "\n",
    "url = 'https://www.basketball-reference.com/teams/TOR/2023.html'\n",
    "\n",
    "tables = pd.read_html(url)\n",
    "for i, table in enumerate(tables):\n",
    "    print(f'Index: {i}, Name: {table.columns[0]}')"
   ]
  },
  {
   "attachments": {},
   "cell_type": "markdown",
   "metadata": {},
   "source": [
    "# Generic read_csv"
   ]
  },
  {
   "cell_type": "code",
   "execution_count": null,
   "metadata": {},
   "outputs": [],
   "source": [
    "import pandas as pd\n",
    "\n",
    "url = 'https://www.basketball-reference.com/teams/TOR/2023.html'\n",
    "\n",
    "df = pd.read_html(url)[3]\n",
    "\n",
    "display(df)"
   ]
  },
  {
   "attachments": {},
   "cell_type": "markdown",
   "metadata": {},
   "source": [
    "# https://www.basketball-reference.com/wnba/players/"
   ]
  },
  {
   "cell_type": "code",
   "execution_count": null,
   "metadata": {},
   "outputs": [],
   "source": [
    "# Example getting one player\n",
    "import pandas as pd\n",
    "\n",
    "url = 'https://www.basketball-reference.com/wnba/players/z/zellosh01w.html'\n",
    "df = pd.read_html(url)[0]\n",
    "display(df)"
   ]
  },
  {
   "cell_type": "code",
   "execution_count": null,
   "metadata": {},
   "outputs": [],
   "source": [
    "# Get all player URLs\n",
    "import requests\n",
    "from bs4 import BeautifulSoup\n",
    "\n",
    "url = 'https://www.basketball-reference.com/wnba/players/'\n",
    "players = []\n",
    "\n",
    "response = requests.get(url)\n",
    "soup = BeautifulSoup(response.content, 'html.parser')\n",
    "for link in soup.find_all('a'):\n",
    "    href = link.get('href')\n",
    "    if href and href.startswith('/wnba/players/') and href.endswith('.html'):\n",
    "        print(f'{url}{href}')\n",
    "\n",
    "print(players)\n"
   ]
  },
  {
   "attachments": {},
   "cell_type": "markdown",
   "metadata": {},
   "source": [
    "# NBA_API"
   ]
  },
  {
   "cell_type": "code",
   "execution_count": null,
   "metadata": {},
   "outputs": [],
   "source": [
    "!pip install nba_api -q"
   ]
  },
  {
   "cell_type": "code",
   "execution_count": null,
   "metadata": {},
   "outputs": [],
   "source": [
    "from nba_api.stats.static import players\n",
    "\n",
    "'''\n",
    "{'id': 1627783,\n",
    " 'full_name': 'Pascal Siakam',\n",
    " 'first_name': 'Pascal',\n",
    " 'last_name': 'Siakam',\n",
    " 'is_active': True}\n",
    "''' \n",
    "\n",
    "# Find players by full name.\n",
    "# players.find_players_by_full_name('pascal siakam')\n",
    "\n",
    "# Find players by first name.\n",
    "# players.find_players_by_first_name('pascal')\n",
    "\n",
    "# # Find players by last name.\n",
    "players.find_players_by_last_name('^(james|love)$')\n",
    "\n",
    "# players.find_player_by_id(1627783)\n",
    "# {'id': 1627783,\n",
    "#  'full_name': 'Pascal Siakam',\n",
    "#  'first_name': 'Pascal',\n",
    "#  'last_name': 'Siakam',\n",
    "#  'is_active': True}\n",
    "\n",
    "# # Get all players.\n",
    "# for player in players.get_players():\n",
    "#     print(player['id'])\n",
    "    # print(player) # {'id': 76001, 'full_name': 'Alaa Abdelnaby', 'first_name': 'Alaa', 'last_name': 'Abdelnaby', 'is_active': False}\n"
   ]
  }
 ],
 "metadata": {
  "kernelspec": {
   "display_name": ".venv",
   "language": "python",
   "name": "python3"
  },
  "language_info": {
   "codemirror_mode": {
    "name": "ipython",
    "version": 3
   },
   "file_extension": ".py",
   "mimetype": "text/x-python",
   "name": "python",
   "nbconvert_exporter": "python",
   "pygments_lexer": "ipython3",
   "version": "3.10.5"
  },
  "orig_nbformat": 4
 },
 "nbformat": 4,
 "nbformat_minor": 2
}

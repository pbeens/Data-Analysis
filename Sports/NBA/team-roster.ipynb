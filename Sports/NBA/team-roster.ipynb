{
 "cells": [
  {
   "attachments": {},
   "cell_type": "markdown",
   "metadata": {},
   "source": [
    "# OVERVIEW"
   ]
  },
  {
   "attachments": {},
   "cell_type": "markdown",
   "metadata": {},
   "source": [
    "The program uses two tools called nba_api and pandas to get and work with data from the NBA website. The program does the following steps:\n",
    "\n",
    "- It tells the computer to use the commonteamroster tool from the nba_api and the pandas tool as pd.\n",
    "- It tells the computer to get the data about the Toronto Raptors players from the NBA website and store it in a list of tables called dataframes.\n",
    "- It tells the computer to make a new table called roster_df that has only five columns: 'NUM', 'PLAYER', 'HEIGHT', 'WEIGHT', and 'AGE' from the first table in the list.\n",
    "- It tells the computer to change the 'NUM' column to numbers and sort the table by that column from smallest to largest.\n",
    "- It tells the computer to show only the 'NUM' and 'PLAYER' columns of the table as text without showing the row numbers. The text shows the names and numbers of the Raptors players in order of their numbers."
   ]
  },
  {
   "attachments": {},
   "cell_type": "markdown",
   "metadata": {},
   "source": [
    "# SETUP"
   ]
  },
  {
   "cell_type": "code",
   "execution_count": 9,
   "metadata": {},
   "outputs": [],
   "source": [
    "# Import the commonteamroster module from the nba_api.stats.endpoints package\n",
    "# The commonteamroster module provides access to the CommonTeamRoster class,\n",
    "# which can be used to retrieve the roster information for a given NBA team.\n",
    "from nba_api.stats.endpoints import commonteamroster\n",
    "\n",
    "# Import the pandas library as pd\n",
    "import pandas as pd"
   ]
  },
  {
   "attachments": {},
   "cell_type": "markdown",
   "metadata": {},
   "source": [
    "# INPUT"
   ]
  },
  {
   "cell_type": "code",
   "execution_count": 10,
   "metadata": {},
   "outputs": [
    {
     "data": {
      "text/plain": [
       "Index(['TeamID', 'SEASON', 'LeagueID', 'PLAYER', 'NICKNAME', 'PLAYER_SLUG',\n",
       "       'NUM', 'POSITION', 'HEIGHT', 'WEIGHT', 'BIRTH_DATE', 'AGE', 'EXP',\n",
       "       'SCHOOL', 'PLAYER_ID', 'HOW_ACQUIRED'],\n",
       "      dtype='object')"
      ]
     },
     "execution_count": 10,
     "metadata": {},
     "output_type": "execute_result"
    }
   ],
   "source": [
    "# Create an instance of the CommonTeamRoster class with team ID 1610612761\n",
    "# This team ID corresponds to the Toronto Raptors\n",
    "roster = commonteamroster.CommonTeamRoster(team_id=1610612761)\n",
    "\n",
    "# Get the list of dataframes from the roster instance\n",
    "# The first dataframe in the list has the player names, positions, jersey numbers, heights, weights, and other details\n",
    "roster_df = roster.get_data_frames()[0]\n",
    "\n",
    "# Get the column names of the dataframe\n",
    "roster_df.columns"
   ]
  },
  {
   "attachments": {},
   "cell_type": "markdown",
   "metadata": {},
   "source": [
    "# PROCESS"
   ]
  },
  {
   "cell_type": "code",
   "execution_count": 11,
   "metadata": {},
   "outputs": [
    {
     "data": {
      "text/plain": [
       "Index(['NUM', 'PLAYER', 'HEIGHT', 'WEIGHT', 'AGE'], dtype='object')"
      ]
     },
     "execution_count": 11,
     "metadata": {},
     "output_type": "execute_result"
    }
   ],
   "source": [
    "# Select only the columns 'NUM', 'PLAYER', 'HEIGHT', 'WEIGHT', and 'AGE' from the roster_df dataframe\n",
    "# Assign the result to a new dataframe called roster_df\n",
    "roster_df = roster_df[[\"NUM\", \"PLAYER\", \"HEIGHT\", \"WEIGHT\", \"AGE\"]]\n",
    "\n",
    "# Get the column names of the new dataframe\n",
    "# The column names are: 'NUM', 'PLAYER', 'HEIGHT', 'WEIGHT', and 'AGE'\n",
    "roster_df.columns"
   ]
  },
  {
   "cell_type": "code",
   "execution_count": 12,
   "metadata": {},
   "outputs": [
    {
     "data": {
      "text/html": [
       "<div>\n",
       "<style scoped>\n",
       "    .dataframe tbody tr th:only-of-type {\n",
       "        vertical-align: middle;\n",
       "    }\n",
       "\n",
       "    .dataframe tbody tr th {\n",
       "        vertical-align: top;\n",
       "    }\n",
       "\n",
       "    .dataframe thead th {\n",
       "        text-align: right;\n",
       "    }\n",
       "</style>\n",
       "<table border=\"1\" class=\"dataframe\">\n",
       "  <thead>\n",
       "    <tr style=\"text-align: right;\">\n",
       "      <th></th>\n",
       "      <th>NUM</th>\n",
       "      <th>PLAYER</th>\n",
       "      <th>HEIGHT</th>\n",
       "      <th>WEIGHT</th>\n",
       "      <th>AGE</th>\n",
       "    </tr>\n",
       "  </thead>\n",
       "  <tbody>\n",
       "    <tr>\n",
       "      <th>0</th>\n",
       "      <td>1</td>\n",
       "      <td>Will Barton</td>\n",
       "      <td>6-5</td>\n",
       "      <td>181</td>\n",
       "      <td>32.0</td>\n",
       "    </tr>\n",
       "    <tr>\n",
       "      <th>1</th>\n",
       "      <td>3</td>\n",
       "      <td>O.G. Anunoby</td>\n",
       "      <td>6-7</td>\n",
       "      <td>232</td>\n",
       "      <td>25.0</td>\n",
       "    </tr>\n",
       "    <tr>\n",
       "      <th>2</th>\n",
       "      <td>4</td>\n",
       "      <td>Scottie Barnes</td>\n",
       "      <td>6-8</td>\n",
       "      <td>225</td>\n",
       "      <td>21.0</td>\n",
       "    </tr>\n",
       "    <tr>\n",
       "      <th>3</th>\n",
       "      <td>5</td>\n",
       "      <td>Precious Achiuwa</td>\n",
       "      <td>6-8</td>\n",
       "      <td>225</td>\n",
       "      <td>23.0</td>\n",
       "    </tr>\n",
       "    <tr>\n",
       "      <th>4</th>\n",
       "      <td>8</td>\n",
       "      <td>Ron Harper Jr.</td>\n",
       "      <td>6-5</td>\n",
       "      <td>245</td>\n",
       "      <td>23.0</td>\n",
       "    </tr>\n",
       "  </tbody>\n",
       "</table>\n",
       "</div>"
      ],
      "text/plain": [
       "  NUM            PLAYER HEIGHT WEIGHT   AGE\n",
       "0   1       Will Barton    6-5    181  32.0\n",
       "1   3      O.G. Anunoby    6-7    232  25.0\n",
       "2   4    Scottie Barnes    6-8    225  21.0\n",
       "3   5  Precious Achiuwa    6-8    225  23.0\n",
       "4   8    Ron Harper Jr.    6-5    245  23.0"
      ]
     },
     "execution_count": 12,
     "metadata": {},
     "output_type": "execute_result"
    }
   ],
   "source": [
    "# Print the first five rows of the roster_df dataframe\n",
    "# This will show a sample of the data for the selected columns\n",
    "roster_df.head()"
   ]
  },
  {
   "attachments": {},
   "cell_type": "markdown",
   "metadata": {},
   "source": [
    "Just for fun I'm going to sort the data by age:"
   ]
  },
  {
   "cell_type": "code",
   "execution_count": 13,
   "metadata": {},
   "outputs": [
    {
     "data": {
      "text/html": [
       "<div>\n",
       "<style scoped>\n",
       "    .dataframe tbody tr th:only-of-type {\n",
       "        vertical-align: middle;\n",
       "    }\n",
       "\n",
       "    .dataframe tbody tr th {\n",
       "        vertical-align: top;\n",
       "    }\n",
       "\n",
       "    .dataframe thead th {\n",
       "        text-align: right;\n",
       "    }\n",
       "</style>\n",
       "<table border=\"1\" class=\"dataframe\">\n",
       "  <thead>\n",
       "    <tr style=\"text-align: right;\">\n",
       "      <th></th>\n",
       "      <th>NUM</th>\n",
       "      <th>PLAYER</th>\n",
       "      <th>HEIGHT</th>\n",
       "      <th>WEIGHT</th>\n",
       "      <th>AGE</th>\n",
       "    </tr>\n",
       "  </thead>\n",
       "  <tbody>\n",
       "    <tr>\n",
       "      <th>2</th>\n",
       "      <td>4</td>\n",
       "      <td>Scottie Barnes</td>\n",
       "      <td>6-8</td>\n",
       "      <td>225</td>\n",
       "      <td>21.0</td>\n",
       "    </tr>\n",
       "    <tr>\n",
       "      <th>14</th>\n",
       "      <td>35</td>\n",
       "      <td>Christian Koloko</td>\n",
       "      <td>7-0</td>\n",
       "      <td>230</td>\n",
       "      <td>22.0</td>\n",
       "    </tr>\n",
       "    <tr>\n",
       "      <th>16</th>\n",
       "      <td>45</td>\n",
       "      <td>Dalano Banton</td>\n",
       "      <td>6-7</td>\n",
       "      <td>204</td>\n",
       "      <td>23.0</td>\n",
       "    </tr>\n",
       "    <tr>\n",
       "      <th>3</th>\n",
       "      <td>5</td>\n",
       "      <td>Precious Achiuwa</td>\n",
       "      <td>6-8</td>\n",
       "      <td>225</td>\n",
       "      <td>23.0</td>\n",
       "    </tr>\n",
       "    <tr>\n",
       "      <th>4</th>\n",
       "      <td>8</td>\n",
       "      <td>Ron Harper Jr.</td>\n",
       "      <td>6-5</td>\n",
       "      <td>245</td>\n",
       "      <td>23.0</td>\n",
       "    </tr>\n",
       "  </tbody>\n",
       "</table>\n",
       "</div>"
      ],
      "text/plain": [
       "   NUM            PLAYER HEIGHT WEIGHT   AGE\n",
       "2    4    Scottie Barnes    6-8    225  21.0\n",
       "14  35  Christian Koloko    7-0    230  22.0\n",
       "16  45     Dalano Banton    6-7    204  23.0\n",
       "3    5  Precious Achiuwa    6-8    225  23.0\n",
       "4    8    Ron Harper Jr.    6-5    245  23.0"
      ]
     },
     "execution_count": 13,
     "metadata": {},
     "output_type": "execute_result"
    }
   ],
   "source": [
    "# Sort the roster_df dataframe by the 'AGE' column in ascending order\n",
    "# Assign the result to the same dataframe name\n",
    "roster_df = roster_df.sort_values(by=\"AGE\")\n",
    "\n",
    "# Print the first five rows of the sorted dataframe\n",
    "# This will show the youngest players on the roster\n",
    "roster_df.head()"
   ]
  },
  {
   "attachments": {},
   "cell_type": "markdown",
   "metadata": {},
   "source": [
    "That's much better! Now we only have the columns we might care about.\n",
    "\n",
    "Now let's work on printing the players' names sorted by their number. \n",
    "\n",
    "Notice in this example I'm only printing two columns."
   ]
  },
  {
   "cell_type": "code",
   "execution_count": 14,
   "metadata": {},
   "outputs": [
    {
     "name": "stdout",
     "output_type": "stream",
     "text": [
      "   NUM            PLAYER\n",
      "0    1       Will Barton\n",
      "5   11      Joe Wieskamp\n",
      "6   19      Jakob Poeltl\n",
      "7   20   Jeff Dowtin Jr.\n",
      "8   21    Thaddeus Young\n",
      "9   22     Malachi Flynn\n",
      "10  23     Fred VanVleet\n",
      "11  25     Chris Boucher\n",
      "1    3      O.G. Anunoby\n",
      "12  32   Otto Porter Jr.\n",
      "13  33    Gary Trent Jr.\n",
      "14  35  Christian Koloko\n",
      "2    4    Scottie Barnes\n",
      "15  43     Pascal Siakam\n",
      "16  45     Dalano Banton\n",
      "3    5  Precious Achiuwa\n",
      "4    8    Ron Harper Jr.\n"
     ]
    }
   ],
   "source": [
    "# Sort the roster_df dataframe by the 'NUM' column in ascending order\n",
    "# This will arrange the players by their jersey numbers\n",
    "roster_df = roster_df.sort_values(by=\"NUM\")\n",
    "\n",
    "# Print only the 'NUM' and 'PLAYER' columns of the sorted dataframe\n",
    "# This will show the names of the players along with their jersey numbers\n",
    "print(roster_df[[\"NUM\", \"PLAYER\"]])"
   ]
  },
  {
   "attachments": {},
   "cell_type": "markdown",
   "metadata": {},
   "source": [
    "Notice that the numbers didn't print in the proper sorted order? That's because the program thinks the NUM column are characters (we call them *strings* in Python), not numbers.\n",
    "\n",
    "Let's convert them to numbers and print them again:"
   ]
  },
  {
   "cell_type": "code",
   "execution_count": 15,
   "metadata": {},
   "outputs": [
    {
     "name": "stdout",
     "output_type": "stream",
     "text": [
      "    NUM            PLAYER\n",
      "0     1       Will Barton\n",
      "1     3      O.G. Anunoby\n",
      "2     4    Scottie Barnes\n",
      "3     5  Precious Achiuwa\n",
      "4     8    Ron Harper Jr.\n",
      "5    11      Joe Wieskamp\n",
      "6    19      Jakob Poeltl\n",
      "7    20   Jeff Dowtin Jr.\n",
      "8    21    Thaddeus Young\n",
      "9    22     Malachi Flynn\n",
      "10   23     Fred VanVleet\n",
      "11   25     Chris Boucher\n",
      "12   32   Otto Porter Jr.\n",
      "13   33    Gary Trent Jr.\n",
      "14   35  Christian Koloko\n",
      "15   43     Pascal Siakam\n",
      "16   45     Dalano Banton\n"
     ]
    }
   ],
   "source": [
    "# Convert the 'NUM' column of the roster_df dataframe to numeric type\n",
    "# This will ensure that the sorting by this column is done correctly\n",
    "roster_df[\"NUM\"] = pd.to_numeric(roster_df[\"NUM\"])\n",
    "\n",
    "# Sort the roster_df dataframe by the 'NUM' column in ascending order\n",
    "# This will arrange the players by their jersey numbers\n",
    "roster_df = roster_df.sort_values(by=\"NUM\")\n",
    "\n",
    "# Print only the 'NUM' and 'PLAYER' columns of the sorted dataframe\n",
    "# This will show the names of the players along with their jersey numbers\n",
    "print(roster_df[[\"NUM\", \"PLAYER\"]])"
   ]
  },
  {
   "attachments": {},
   "cell_type": "markdown",
   "metadata": {},
   "source": [
    "# OUTPUT"
   ]
  },
  {
   "attachments": {},
   "cell_type": "markdown",
   "metadata": {},
   "source": [
    "For the final output we're going to get rid of the index because we don't need it and it makes the table ugly!"
   ]
  },
  {
   "cell_type": "code",
   "execution_count": 16,
   "metadata": {},
   "outputs": [
    {
     "name": "stdout",
     "output_type": "stream",
     "text": [
      " NUM           PLAYER\n",
      "   1      Will Barton\n",
      "   3     O.G. Anunoby\n",
      "   4   Scottie Barnes\n",
      "   5 Precious Achiuwa\n",
      "   8   Ron Harper Jr.\n",
      "  11     Joe Wieskamp\n",
      "  19     Jakob Poeltl\n",
      "  20  Jeff Dowtin Jr.\n",
      "  21   Thaddeus Young\n",
      "  22    Malachi Flynn\n",
      "  23    Fred VanVleet\n",
      "  25    Chris Boucher\n",
      "  32  Otto Porter Jr.\n",
      "  33   Gary Trent Jr.\n",
      "  35 Christian Koloko\n",
      "  43    Pascal Siakam\n",
      "  45    Dalano Banton\n"
     ]
    }
   ],
   "source": [
    "# Print only the 'NUM' and 'PLAYER' columns of the roster_df dataframe as a string\n",
    "# This will remove the index column and align the output\n",
    "print(roster_df[[\"NUM\", \"PLAYER\"]].to_string(index=False))"
   ]
  },
  {
   "attachments": {},
   "cell_type": "markdown",
   "metadata": {},
   "source": [
    "# IN SUMMARY..."
   ]
  },
  {
   "attachments": {},
   "cell_type": "markdown",
   "metadata": {},
   "source": [
    "Here is a brief explanation of each term:\n",
    "\n",
    "- **nba_api.stats.endpoints** is a package that contains classes for accessing various endpoints on the NBA website that provide statistical data about the league, its teams, and its players¹.\n",
    "- **pandas** is a library that provides data analysis and manipulation tools for working with tabular and multidimensional data structures in Python².\n",
    "- **df.columns** is an attribute that returns the column labels of a pandas DataFrame³.\n",
    "- **df.head()** is a method that returns the first n rows of a pandas DataFrame, where n is an optional parameter that defaults to 5².\n",
    "- **df.sort_values()** is a method that sorts a pandas DataFrame by one or more columns in ascending or descending order².\n",
    "- **df.to_string(index=False)** is a method that converts a pandas DataFrame to a string representation, where index=False means that the row labels are not included in the output².\n",
    "- **pd.to_numeric()** is a function that converts one or more columns of a pandas DataFrame to numeric type, which can handle errors and missing values².\n",
    "\n",
    "Source: Conversation with Bing, 2023-05-23\n",
    "1. NBA API Library - nbasense. http://nbasense.com/nba-api/.\n",
    "2. swar/nba_api: An API Client package to access the APIs for NBA.com - GitHub. https://github.com/swar/nba_api.\n",
    "3. nba_api/shotchartdetail.md at master · swar/nba_api · GitHub. https://github.com/swar/nba_api/blob/master/docs/nba_api/stats/endpoints/shotchartdetail.md.\n",
    "4. Connection Timeout error is thrown while using leaguegamefinder of nba .... https://stackoverflow.com/questions/66736607/connection-timeout-error-is-thrown-while-using-leaguegamefinder-of-nba-api-stats.\n",
    "5. nba_api/playercareerstats.md at master · swar/nba_api · GitHub. https://github.com/swar/nba_api/blob/master/docs/nba_api/stats/endpoints/playercareerstats.md."
   ]
  },
  {
   "attachments": {},
   "cell_type": "markdown",
   "metadata": {},
   "source": [
    "# EXERCISES"
   ]
  },
  {
   "attachments": {},
   "cell_type": "markdown",
   "metadata": {},
   "source": [
    "1. Modify our example above to also print \"POSITION\". \n",
    "1. We imported the data using this command, which uses index 0 of the data:\n",
    "   <br>`roster_df = roster.get_data_frames()[0]`\n",
    "   <br>What is in index 1? Print something interesting from the data that involves sorting."
   ]
  }
 ],
 "metadata": {
  "kernelspec": {
   "display_name": ".venv",
   "language": "python",
   "name": "python3"
  },
  "language_info": {
   "codemirror_mode": {
    "name": "ipython",
    "version": 3
   },
   "file_extension": ".py",
   "mimetype": "text/x-python",
   "name": "python",
   "nbconvert_exporter": "python",
   "pygments_lexer": "ipython3",
   "version": "3.11.2"
  },
  "orig_nbformat": 4
 },
 "nbformat": 4,
 "nbformat_minor": 2
}

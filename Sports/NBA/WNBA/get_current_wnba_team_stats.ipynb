{
 "cells": [
  {
   "cell_type": "code",
   "execution_count": null,
   "metadata": {},
   "outputs": [],
   "source": [
    "%pip install selenium -\n",
    "%pip install pandas -q"
   ]
  },
  {
   "cell_type": "code",
   "execution_count": null,
   "metadata": {},
   "outputs": [],
   "source": [
    "from selenium import webdriver\n",
    "from selenium.webdriver.common.by import By\n",
    "from selenium.webdriver.support.ui import WebDriverWait\n",
    "from selenium.webdriver.support import expected_conditions as EC\n",
    "from selenium.webdriver.firefox.options import Options\n",
    "import pandas as pd\n",
    "\n",
    "# Setting up Firefox options\n",
    "options = Options()\n",
    "options.add_argument('--ignore-certificate-errors')\n",
    "options.add_argument(\"--test-type\")\n",
    "\n",
    "# Creating a Firefox driver object with the specified options\n",
    "driver = webdriver.Firefox(options=options)\n",
    "\n",
    "# URL to scrape\n",
    "url = 'https://stats.wnba.com/teams/scoring/?sort=W&dir=-1'\n",
    "\n",
    "# Opening the URL\n",
    "driver.get(url)\n",
    "\n",
    "# Wait for the specific element to be loaded\n",
    "WebDriverWait(driver, 20).until(\n",
    "    EC.presence_of_element_located((By.TAG_NAME, \"table\"))\n",
    ")\n",
    "\n",
    "# Extracting table data using pandas\n",
    "try:\n",
    "    df = pd.read_html(driver.page_source)[0]\n",
    "    # Saving the DataFrame to a CSV file\n",
    "    df.to_csv('WNBA_Standings.csv', index=False)\n",
    "    print(\"DataFrame is saved to 'WNBA_Standings.csv'.\")\n",
    "except Exception as e:\n",
    "    print(f\"An error occurred: {e}\")\n",
    "\n",
    "# Closing the driver\n",
    "driver.quit()\n"
   ]
  }
 ],
 "metadata": {
  "language_info": {
   "name": "python"
  }
 },
 "nbformat": 4,
 "nbformat_minor": 2
}

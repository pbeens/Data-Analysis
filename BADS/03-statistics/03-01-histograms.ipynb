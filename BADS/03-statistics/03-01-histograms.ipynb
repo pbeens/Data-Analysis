{
 "cells": [
  {
   "attachments": {},
   "cell_type": "markdown",
   "metadata": {},
   "source": [
    "This notebook has been adapted from... \n",
    "\n",
    "https://github.com/callysto/basketball-and-data-science/blob/main/content/02-visualizing-data.ipynb\n",
    "\n",
    "(Open in [Callysto](https://hub.callysto.ca/jupyter/hub/user-redirect/git-pull?repo=https://github.com/pbeens/Data-Analysis&branch=main&subPath=BADS/02-visualize/02-03-histograms.ipynb&depth=1) | [Colab](https://githubtocolab.com/pbeens/Data-Analysis/blob/main/BADS/02-visualize/02-03-histograms.ipynb))"
   ]
  },
  {
   "cell_type": "code",
   "execution_count": null,
   "metadata": {},
   "outputs": [],
   "source": [
    "# Only needed for SSLCertVerificationError. Otherwise ignore!\n",
    "import ssl\n",
    "\n",
    "# Create an unverified SSL context that you can use to make requests without verifying the SSL certificate.\n",
    "ssl._create_default_https_context = ssl._create_unverified_context"
   ]
  },
  {
   "attachments": {},
   "cell_type": "markdown",
   "metadata": {},
   "source": [
    "# Histograms"
   ]
  },
  {
   "attachments": {},
   "cell_type": "markdown",
   "metadata": {},
   "source": [
    "A [histogram](https://plotly.com/python/histograms/) can be used to show statistics such as `sum`, `count`, or `average`."
   ]
  },
  {
   "attachments": {},
   "cell_type": "markdown",
   "metadata": {},
   "source": [
    "Let's continue working with Pascal Siakam data. "
   ]
  },
  {
   "cell_type": "code",
   "execution_count": null,
   "metadata": {},
   "outputs": [],
   "source": [
    "import pandas as pd\n",
    "import plotly.express as px\n",
    "\n",
    "url = 'https://raw.githubusercontent.com/callysto/basketball-and-data-science/main/content/data/nba-players/Pascal_Siakam.csv'\n",
    "df = pd.read_csv(url)\n",
    "\n",
    "fig = px.scatter(df, \n",
    "                 x='FGA', \n",
    "                 y='FG', \n",
    "                 title='Siakam Field Goals versus Field Goal Attempts')\n",
    "\n",
    "fig.show()"
   ]
  },
  {
   "attachments": {},
   "cell_type": "markdown",
   "metadata": {},
   "source": [
    "What concolusions can you draw from this?"
   ]
  },
  {
   "attachments": {},
   "cell_type": "markdown",
   "metadata": {},
   "source": [
    "Let's update our x- and y-axis labels:"
   ]
  },
  {
   "cell_type": "code",
   "execution_count": null,
   "metadata": {},
   "outputs": [],
   "source": [
    "fig.update_xaxes(title='Field Goal Attempts')\n",
    "\n",
    "fig.update_yaxes(title='Field Goals')\n",
    "\n",
    "fig.show()"
   ]
  },
  {
   "attachments": {},
   "cell_type": "markdown",
   "metadata": {},
   "source": [
    "# MORE TO COME!"
   ]
  }
 ],
 "metadata": {
  "kernelspec": {
   "display_name": ".venv",
   "language": "python",
   "name": "python3"
  },
  "language_info": {
   "codemirror_mode": {
    "name": "ipython",
    "version": 3
   },
   "file_extension": ".py",
   "mimetype": "text/x-python",
   "name": "python",
   "nbconvert_exporter": "python",
   "pygments_lexer": "ipython3",
   "version": "3.10.5"
  },
  "orig_nbformat": 4
 },
 "nbformat": 4,
 "nbformat_minor": 2
}

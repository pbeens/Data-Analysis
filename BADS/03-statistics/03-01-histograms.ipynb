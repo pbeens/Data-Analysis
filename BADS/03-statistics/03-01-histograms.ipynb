{
 "cells": [
  {
   "attachments": {},
   "cell_type": "markdown",
   "metadata": {},
   "source": [
    "This notebook has been adapted from... \n",
    "\n",
    "https://github.com/callysto/basketball-and-data-science/blob/main/content/03-statistics.ipynb, with permmission.\n",
    "\n",
    "(Open in \n",
    "[Callysto](https://hub.callysto.ca/jupyter/hub/user-redirect/git-pull?repo=https://github.com/pbeens/Data-Analysis&branch=main&subPath=BADS/03-statistics/03-01-histograms.ipynb&depth=1) | [Colab](https://githubtocolab.com/pbeens/Data-Analysis/blob/main/BADS/03-statistics/03-01-histograms.ipynb))"
   ]
  },
  {
   "cell_type": "markdown",
   "metadata": {},
   "source": [
    "# IN PROGRESS!!!"
   ]
  },
  {
   "attachments": {},
   "cell_type": "markdown",
   "metadata": {},
   "source": [
    "# Histograms"
   ]
  },
  {
   "attachments": {},
   "cell_type": "markdown",
   "metadata": {},
   "source": [
    "Let's work with Raptors data from 2023:"
   ]
  },
  {
   "cell_type": "code",
   "execution_count": null,
   "metadata": {},
   "outputs": [],
   "source": [
    "# Importing pandas and plotly.express libraries\n",
    "import pandas as pd\n",
    "import plotly.express as px\n",
    "\n",
    "# Reading the data from the url into a pandas dataframe\n",
    "url = 'https://raw.githubusercontent.com/pbeens/Data-Analysis/main/Data/raptors-2023.csv'\n",
    "raptors_df = pd.read_csv(url)"
   ]
  },
  {
   "cell_type": "markdown",
   "metadata": {},
   "source": [
    "Let's take a quick look at the top of the data:"
   ]
  },
  {
   "cell_type": "code",
   "execution_count": null,
   "metadata": {},
   "outputs": [],
   "source": [
    "raptors_df.head()"
   ]
  },
  {
   "cell_type": "code",
   "execution_count": null,
   "metadata": {},
   "outputs": [],
   "source": [
    "raptors_df[['Pos', 'FG%']]"
   ]
  },
  {
   "cell_type": "markdown",
   "metadata": {},
   "source": [
    "...and the names of the columns:"
   ]
  },
  {
   "cell_type": "code",
   "execution_count": null,
   "metadata": {},
   "outputs": [],
   "source": [
    "raptors_df.columns"
   ]
  },
  {
   "cell_type": "markdown",
   "metadata": {},
   "source": [
    "Let's introduce another type of visualization, called a histogram. \n",
    "\n",
    "A histogram is like a bar graph that groups data into \"bins\" and displays how many values are in each bin.\n",
    "\n",
    "Let's look at how well the Raptors do with field goals (FG%):"
   ]
  },
  {
   "cell_type": "code",
   "execution_count": null,
   "metadata": {},
   "outputs": [],
   "source": [
    "px.histogram(raptors_df, \n",
    "             x='FG%', \n",
    "             title='Raptors Field Goal Percentage')"
   ]
  },
  {
   "cell_type": "markdown",
   "metadata": {},
   "source": [
    "Let's the number of bins (with `nbins=15`):"
   ]
  },
  {
   "cell_type": "code",
   "execution_count": null,
   "metadata": {},
   "outputs": [],
   "source": [
    "px.histogram(raptors_df, \n",
    "             x='FG%', \n",
    "             title='Raptors Field Goal Percentage', \n",
    "             nbins=15)"
   ]
  },
  {
   "cell_type": "markdown",
   "metadata": {},
   "source": [
    "Just like with other visualizations we can use the color attribute to divide the data by another column from our dataset. Clicking on the labels in the legend will turn those traces on an off."
   ]
  },
  {
   "cell_type": "code",
   "execution_count": null,
   "metadata": {},
   "outputs": [],
   "source": [
    "px.histogram(raptors_df, \n",
    "             x='FG%', \n",
    "             title='Raptors Field Goal Percentage by Position', \n",
    "             color='Pos')"
   ]
  },
  {
   "cell_type": "markdown",
   "metadata": {},
   "source": [
    "# Exercise"
   ]
  },
  {
   "cell_type": "markdown",
   "metadata": {},
   "source": [
    "Create a histogram that shows the numbers of players in each position. "
   ]
  },
  {
   "cell_type": "code",
   "execution_count": null,
   "metadata": {},
   "outputs": [],
   "source": [
    "# Importing pandas and plotly.express libraries\n",
    "import pandas as pd\n",
    "\n",
    "# Reading the data from the url into a pandas dataframe\n",
    "url = 'https://raw.githubusercontent.com/pbeens/Data-Analysis/main/Data/raptors-2023.csv'\n",
    "raptors_df = pd.read_csv(url)\n",
    "\n",
    "# Write your program here\n",
    "\n"
   ]
  },
  {
   "cell_type": "markdown",
   "metadata": {},
   "source": [
    "# Calculating Statistics"
   ]
  },
  {
   "cell_type": "markdown",
   "metadata": {},
   "source": [
    "Let's calculate some basic statistics,including mean, median, minimum, and maximum.\n",
    "\n",
    "Recalling the names of the columns in the Raptors file:\n",
    "\n",
    "Here's what all the columns mean:\n",
    "\n",
    "|Column|Meaning|\n",
    "|-|-|\n",
    "|Age|Player's age on February 1 of the season|\n",
    "|Lg|League|\n",
    "|Pos|Position|\n",
    "|G|Games|\n",
    "|GS|Games Started|\n",
    "|MP|Minutes Played Per Game|\n",
    "|FG|Field Goals Per Game|\n",
    "|FGA|Field Goal Attempts Per Game|\n",
    "|FG%|Field Goal Percentage|\n",
    "|3P|3-Point Field Goals Per Game|\n",
    "|3PA|3-Point Field Goal Attempts Per Game|\n",
    "|3P%|3-Point Field Goal Percentage|\n",
    "|2P|2-Point Field Goals Per Game|\n",
    "|2PA|2-Point Field Goal Attempts Per Game|\n",
    "|2P%|2-Point Field Goal Percentage|\n",
    "|eFG%|Effective Field Goal Percentage*|\n",
    "|FT|Free Throws Per Game|\n",
    "|FTA|Free Throw Attempts Per Game|\n",
    "|FT%|Free Throw Percentage|\n",
    "|ORB|Offensive Rebounds Per Game|\n",
    "|DRB|Defensive Rebounds Per Game|\n",
    "|TRB|Total Rebounds Per Game|\n",
    "|AST|Assists Per Game|\n",
    "|STL|Steals Per Game|\n",
    "|BLK|Blocks Per Game|\n",
    "|TOV|Turnovers Per Game|\n",
    "|PF|Personal Fouls Per Game|\n",
    "|PTS|Points Per Game|\n",
    "\n",
    "<span style=\"font-size:10px\">*This statistic adjusts for the fact that a 3-point field goal is worth one more point than a 2-point field goal.</span>"
   ]
  },
  {
   "cell_type": "markdown",
   "metadata": {},
   "source": [
    "Looking specifically at the Games column (G), let's calculate the minimum, maximum, mean, and median number of games played. "
   ]
  },
  {
   "cell_type": "code",
   "execution_count": 24,
   "metadata": {},
   "outputs": [
    {
     "name": "stdout",
     "output_type": "stream",
     "text": [
      "Minimum = 9.0\n",
      "Maximum = 1139.0\n",
      "Mean = 315.8235294117647\n",
      "Median = 270.0\n"
     ]
    }
   ],
   "source": [
    "# Importing pandas and plotly.express libraries\n",
    "import pandas as pd\n",
    "\n",
    "# Reading the data from the url into a pandas dataframe\n",
    "url = 'https://raw.githubusercontent.com/pbeens/Data-Analysis/main/Data/raptors-2023.csv'\n",
    "raptors_df = pd.read_csv(url)\n",
    "\n",
    "# minimum\n",
    "print('Minimum =', raptors_df['G'].min())\n",
    "\n",
    "# maximum\n",
    "print('Maximum =', raptors_df['G'].max())\n",
    "\n",
    "# mean\n",
    "print('Mean =', raptors_df['G'].mean())\n",
    "\n",
    "# median\n",
    "print('Median =', raptors_df['G'].median())"
   ]
  },
  {
   "cell_type": "markdown",
   "metadata": {},
   "source": [
    "By using some advanced printing techniques in Python (called f-strings), we can make the data look better:"
   ]
  },
  {
   "cell_type": "code",
   "execution_count": 31,
   "metadata": {},
   "outputs": [
    {
     "name": "stdout",
     "output_type": "stream",
     "text": [
      "Minimum = 9\n",
      "Maximum = 1139\n",
      "Mean = 315.8\n",
      "Median = 270\n"
     ]
    }
   ],
   "source": [
    "# minimum\n",
    "print(f\"Minimum = {raptors_df['G'].min():.0f}\")\n",
    "\n",
    "# maximum\n",
    "print(f\"Maximum = {raptors_df['G'].max():.0f}\")\n",
    "\n",
    "# mean\n",
    "print(f\"Mean = {raptors_df['G'].mean():.1f}\")\n",
    "\n",
    "# median\n",
    "print(f\"Median = {raptors_df['G'].median():.0f}\")"
   ]
  },
  {
   "cell_type": "markdown",
   "metadata": {},
   "source": [
    "# Exercise"
   ]
  },
  {
   "cell_type": "markdown",
   "metadata": {},
   "source": [
    "What is the average age of the Raptors? "
   ]
  },
  {
   "cell_type": "code",
   "execution_count": null,
   "metadata": {},
   "outputs": [],
   "source": [
    "# Write your program here."
   ]
  },
  {
   "cell_type": "markdown",
   "metadata": {},
   "source": [
    "# Making New Columns"
   ]
  },
  {
   "attachments": {},
   "cell_type": "markdown",
   "metadata": {},
   "source": [
    "# MORE TO COME!"
   ]
  }
 ],
 "metadata": {
  "kernelspec": {
   "display_name": ".venv",
   "language": "python",
   "name": "python3"
  },
  "language_info": {
   "codemirror_mode": {
    "name": "ipython",
    "version": 3
   },
   "file_extension": ".py",
   "mimetype": "text/x-python",
   "name": "python",
   "nbconvert_exporter": "python",
   "pygments_lexer": "ipython3",
   "version": "3.10.5"
  },
  "orig_nbformat": 4
 },
 "nbformat": 4,
 "nbformat_minor": 2
}

{
 "cells": [
  {
   "attachments": {},
   "cell_type": "markdown",
   "metadata": {},
   "source": [
    "This notebook has been adapted from... \n",
    "\n",
    "https://github.com/callysto/basketball-and-data-science/blob/main/content/03-statistics.ipynb, with permmission.\n",
    "\n",
    "(Open in [Callysto](https://hub.callysto.ca/jupyter/hub/user-redirect/git-pull?repo=https://github.com/pbeens/Data-Analysis&branch=main&subPath=BADS/03-statistics/03-03-new-columns.ipynb&depth=1) | [Colab](https://githubtocolab.com/pbeens/Data-Analysis/blob/main/BADS/03-statistics/03-03-new-columns.ipynb))"
   ]
  },
  {
   "cell_type": "markdown",
   "metadata": {},
   "source": [
    "# Making New Columns"
   ]
  },
  {
   "cell_type": "markdown",
   "metadata": {},
   "source": [
    "In the dataset there are a few percent columns. Let's create a new column that is the average values of 3-Point, 2-Point, and Free Throw percents."
   ]
  },
  {
   "cell_type": "code",
   "execution_count": 1,
   "metadata": {},
   "outputs": [
    {
     "data": {
      "text/html": [
       "<div>\n",
       "<style scoped>\n",
       "    .dataframe tbody tr th:only-of-type {\n",
       "        vertical-align: middle;\n",
       "    }\n",
       "\n",
       "    .dataframe tbody tr th {\n",
       "        vertical-align: top;\n",
       "    }\n",
       "\n",
       "    .dataframe thead th {\n",
       "        text-align: right;\n",
       "    }\n",
       "</style>\n",
       "<table border=\"1\" class=\"dataframe\">\n",
       "  <thead>\n",
       "    <tr style=\"text-align: right;\">\n",
       "      <th></th>\n",
       "      <th>Player</th>\n",
       "      <th>FG%</th>\n",
       "      <th>FT%</th>\n",
       "      <th>Shot Average (%)</th>\n",
       "    </tr>\n",
       "  </thead>\n",
       "  <tbody>\n",
       "    <tr>\n",
       "      <th>0</th>\n",
       "      <td>Christian Koloko</td>\n",
       "      <td>0.480</td>\n",
       "      <td>0.627</td>\n",
       "      <td>55.35</td>\n",
       "    </tr>\n",
       "    <tr>\n",
       "      <th>1</th>\n",
       "      <td>Chris Boucher</td>\n",
       "      <td>0.486</td>\n",
       "      <td>0.780</td>\n",
       "      <td>63.30</td>\n",
       "    </tr>\n",
       "    <tr>\n",
       "      <th>2</th>\n",
       "      <td>Dalano Banton</td>\n",
       "      <td>0.416</td>\n",
       "      <td>0.632</td>\n",
       "      <td>52.40</td>\n",
       "    </tr>\n",
       "    <tr>\n",
       "      <th>3</th>\n",
       "      <td>Fred VanVleet</td>\n",
       "      <td>0.402</td>\n",
       "      <td>0.869</td>\n",
       "      <td>63.55</td>\n",
       "    </tr>\n",
       "    <tr>\n",
       "      <th>4</th>\n",
       "      <td>Gary Trent Jr.</td>\n",
       "      <td>0.421</td>\n",
       "      <td>0.827</td>\n",
       "      <td>62.40</td>\n",
       "    </tr>\n",
       "    <tr>\n",
       "      <th>5</th>\n",
       "      <td>Jakob Poeltl</td>\n",
       "      <td>0.628</td>\n",
       "      <td>0.536</td>\n",
       "      <td>58.20</td>\n",
       "    </tr>\n",
       "    <tr>\n",
       "      <th>6</th>\n",
       "      <td>Jeff Dowtin</td>\n",
       "      <td>0.398</td>\n",
       "      <td>0.727</td>\n",
       "      <td>56.25</td>\n",
       "    </tr>\n",
       "    <tr>\n",
       "      <th>7</th>\n",
       "      <td>Joe Wieskamp</td>\n",
       "      <td>0.329</td>\n",
       "      <td>0.538</td>\n",
       "      <td>43.35</td>\n",
       "    </tr>\n",
       "    <tr>\n",
       "      <th>8</th>\n",
       "      <td>Malachi Flynn</td>\n",
       "      <td>0.374</td>\n",
       "      <td>0.752</td>\n",
       "      <td>56.30</td>\n",
       "    </tr>\n",
       "    <tr>\n",
       "      <th>9</th>\n",
       "      <td>OG Anunoby</td>\n",
       "      <td>0.471</td>\n",
       "      <td>0.744</td>\n",
       "      <td>60.75</td>\n",
       "    </tr>\n",
       "    <tr>\n",
       "      <th>10</th>\n",
       "      <td>Otto Porter Jr.</td>\n",
       "      <td>0.478</td>\n",
       "      <td>0.797</td>\n",
       "      <td>63.75</td>\n",
       "    </tr>\n",
       "    <tr>\n",
       "      <th>11</th>\n",
       "      <td>Pascal Siakam</td>\n",
       "      <td>0.487</td>\n",
       "      <td>0.774</td>\n",
       "      <td>63.05</td>\n",
       "    </tr>\n",
       "    <tr>\n",
       "      <th>12</th>\n",
       "      <td>Precious Achiuwa</td>\n",
       "      <td>0.474</td>\n",
       "      <td>0.605</td>\n",
       "      <td>53.95</td>\n",
       "    </tr>\n",
       "    <tr>\n",
       "      <th>13</th>\n",
       "      <td>Ron Harper Jr.</td>\n",
       "      <td>0.500</td>\n",
       "      <td>1.000</td>\n",
       "      <td>75.00</td>\n",
       "    </tr>\n",
       "    <tr>\n",
       "      <th>14</th>\n",
       "      <td>Scottie Barnes</td>\n",
       "      <td>0.473</td>\n",
       "      <td>0.755</td>\n",
       "      <td>61.40</td>\n",
       "    </tr>\n",
       "    <tr>\n",
       "      <th>15</th>\n",
       "      <td>Thaddeus Young</td>\n",
       "      <td>0.503</td>\n",
       "      <td>0.663</td>\n",
       "      <td>58.30</td>\n",
       "    </tr>\n",
       "    <tr>\n",
       "      <th>16</th>\n",
       "      <td>Will Barton</td>\n",
       "      <td>0.430</td>\n",
       "      <td>0.787</td>\n",
       "      <td>60.85</td>\n",
       "    </tr>\n",
       "  </tbody>\n",
       "</table>\n",
       "</div>"
      ],
      "text/plain": [
       "              Player    FG%    FT%  Shot Average (%)\n",
       "0   Christian Koloko  0.480  0.627             55.35\n",
       "1      Chris Boucher  0.486  0.780             63.30\n",
       "2      Dalano Banton  0.416  0.632             52.40\n",
       "3      Fred VanVleet  0.402  0.869             63.55\n",
       "4     Gary Trent Jr.  0.421  0.827             62.40\n",
       "5       Jakob Poeltl  0.628  0.536             58.20\n",
       "6        Jeff Dowtin  0.398  0.727             56.25\n",
       "7       Joe Wieskamp  0.329  0.538             43.35\n",
       "8      Malachi Flynn  0.374  0.752             56.30\n",
       "9         OG Anunoby  0.471  0.744             60.75\n",
       "10   Otto Porter Jr.  0.478  0.797             63.75\n",
       "11     Pascal Siakam  0.487  0.774             63.05\n",
       "12  Precious Achiuwa  0.474  0.605             53.95\n",
       "13    Ron Harper Jr.  0.500  1.000             75.00\n",
       "14    Scottie Barnes  0.473  0.755             61.40\n",
       "15    Thaddeus Young  0.503  0.663             58.30\n",
       "16       Will Barton  0.430  0.787             60.85"
      ]
     },
     "metadata": {},
     "output_type": "display_data"
    }
   ],
   "source": [
    "\n",
    "# Import the pandas library\n",
    "import pandas as pd\n",
    "\n",
    "# Set the URL of the data file\n",
    "url = 'https://raw.githubusercontent.com/pbeens/Data-Analysis/main/Data/raptors-2023.csv'\n",
    "\n",
    "# Read the data file into a pandas data frame\n",
    "raptors_df = pd.read_csv(url)\n",
    "\n",
    "# Calculate the shot average for each player and add it as a new column to the data frame\n",
    "raptors_df['Shot Average (%)'] = (raptors_df['FG%'] + raptors_df['FT%']) / 2 * 100\n",
    "\n",
    "# Display the columns 'Player', 'FG%', 'FT%', and 'Shot Average (%)' of the data frame\n",
    "display(raptors_df[['Player', 'FG%', 'FT%', 'Shot Average (%)']])\n"
   ]
  },
  {
   "cell_type": "markdown",
   "metadata": {},
   "source": [
    "Let's round that column so it has just one decimal place, by using `round(1)`. Note that this technique overwrites the column with the new rounded data."
   ]
  },
  {
   "cell_type": "code",
   "execution_count": null,
   "metadata": {},
   "outputs": [],
   "source": [
    "# Round the 'Shot Average (%)' column to one decimal place\n",
    "raptors_df['Shot Average (%)'] = raptors_df['Shot Average (%)'].round(1)\n",
    "\n",
    "# Display the columns 'Player', 'FG%', 'FT%', and 'Shot Average (%)' of the data frame\n",
    "display(raptors_df[['Player', 'FG%', 'FT%', 'Shot Average (%)']])"
   ]
  },
  {
   "cell_type": "markdown",
   "metadata": {},
   "source": [
    "That's better!"
   ]
  },
  {
   "cell_type": "markdown",
   "metadata": {},
   "source": [
    "# Exercise"
   ]
  },
  {
   "cell_type": "markdown",
   "metadata": {},
   "source": [
    "Create a new column that is Games ('G') multiplied by Minutes Played Per Game ('MP'). Use the * symbol for multiplication. Round to two decimal places. \n",
    "\n",
    "What might you call the new column?\n",
    "\n",
    "Display the data so only the top 10 players are shown."
   ]
  },
  {
   "cell_type": "code",
   "execution_count": null,
   "metadata": {},
   "outputs": [],
   "source": [
    "# Write your program here."
   ]
  }
 ],
 "metadata": {
  "kernelspec": {
   "display_name": ".venv",
   "language": "python",
   "name": "python3"
  },
  "language_info": {
   "codemirror_mode": {
    "name": "ipython",
    "version": 3
   },
   "file_extension": ".py",
   "mimetype": "text/x-python",
   "name": "python",
   "nbconvert_exporter": "python",
   "pygments_lexer": "ipython3",
   "version": "3.10.5"
  },
  "orig_nbformat": 4
 },
 "nbformat": 4,
 "nbformat_minor": 2
}

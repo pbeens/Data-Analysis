{
 "cells": [
  {
   "attachments": {},
   "cell_type": "markdown",
   "metadata": {},
   "source": [
    "This notebook has been adapted from... \n",
    "\n",
    "https://github.com/callysto/basketball-and-data-science/blob/main/content/02-visualizing-data.ipynb, with permmission.\n",
    "\n",
    "(Open in \n",
    "[Callysto](https://hub.callysto.ca/jupyter/hub/user-redirect/git-pull?repo=https://github.com/pbeens/Data-Analysis&branch=main&subPath=BADS/02-visualize/02-02-scatter-plots.ipynb&depth=1) | [Colab](https://githubtocolab.com/pbeens/Data-Analysis/blob/main/BADS/02-visualize/02-02-scatter-plots.ipynb))"
   ]
  },
  {
   "attachments": {},
   "cell_type": "markdown",
   "metadata": {},
   "source": [
    "# Setup"
   ]
  },
  {
   "attachments": {},
   "cell_type": "markdown",
   "metadata": {},
   "source": [
    "Let's first take care of importing the libraries we're going to need:"
   ]
  },
  {
   "cell_type": "code",
   "execution_count": null,
   "metadata": {},
   "outputs": [],
   "source": [
    "import pandas as pd\n",
    "import plotly.express as px"
   ]
  },
  {
   "attachments": {},
   "cell_type": "markdown",
   "metadata": {},
   "source": [
    "For convenience, we're going to create a Python function that will get the data and load it into a dataframe for us. You'll see that using a function can make a program more efficient.\n",
    "\n",
    "Re-run this function anytime you need to re-initialize the dataframe. To run it, simple enter this command:\n",
    "\n",
    "`get_data_and_create_dataframe()`\n",
    "\n",
    "We're going to continue working with Pascal Siakam data. "
   ]
  },
  {
   "cell_type": "code",
   "execution_count": null,
   "metadata": {},
   "outputs": [],
   "source": [
    "# Define a function that gets data from a given URL and creates a Pandas DataFrame\n",
    "def get_data_and_create_dataframe():\n",
    "    # Define the URL where the data is located\n",
    "    url = 'https://raw.githubusercontent.com/callysto/basketball-and-data-science/main/content/data/nba-players/Pascal_Siakam.csv'\n",
    "    \n",
    "    # Use Pandas to read the data from the URL into a DataFrame\n",
    "    global df \n",
    "    df = pd.read_csv(url)\n"
   ]
  },
  {
   "attachments": {},
   "cell_type": "markdown",
   "metadata": {},
   "source": [
    "# Deleting Rows"
   ]
  },
  {
   "attachments": {},
   "cell_type": "markdown",
   "metadata": {},
   "source": [
    "Before we play further with this data set, let's get rid of the \"Careers\" row we saw earlier.\n",
    "\n",
    "Here's what the dataframe looks like now:"
   ]
  },
  {
   "cell_type": "code",
   "execution_count": null,
   "metadata": {},
   "outputs": [],
   "source": [
    "get_data_and_create_dataframe()\n",
    "\n",
    "display(df['Season'])"
   ]
  },
  {
   "attachments": {},
   "cell_type": "markdown",
   "metadata": {},
   "source": [
    "We can see that is the row with index #7. Recall that to delete the row we use the `drop()` function, like this:"
   ]
  },
  {
   "cell_type": "code",
   "execution_count": null,
   "metadata": {},
   "outputs": [],
   "source": [
    "get_data_and_create_dataframe()\n",
    "\n",
    "df.drop(7, inplace=True)\n",
    "\n",
    "display(df['Season'])"
   ]
  },
  {
   "attachments": {},
   "cell_type": "markdown",
   "metadata": {},
   "source": [
    "That's better!"
   ]
  },
  {
   "attachments": {},
   "cell_type": "markdown",
   "metadata": {},
   "source": [
    "# Scatter Plots"
   ]
  },
  {
   "attachments": {},
   "cell_type": "markdown",
   "metadata": {},
   "source": [
    "Notice we are now using `px.scatter()` instead of `px.bar()`."
   ]
  },
  {
   "cell_type": "code",
   "execution_count": null,
   "metadata": {},
   "outputs": [],
   "source": [
    "fig = px.scatter(df, \n",
    "                 x='FGA', \n",
    "                 y='FG', \n",
    "                 title='Siakam Field Goals versus Field Goal Attempts')\n",
    "\n",
    "fig.show()"
   ]
  },
  {
   "attachments": {},
   "cell_type": "markdown",
   "metadata": {},
   "source": [
    "Let's update our x- and y-axis labels to make our graph more understandable:"
   ]
  },
  {
   "cell_type": "code",
   "execution_count": null,
   "metadata": {},
   "outputs": [],
   "source": [
    "fig.update_xaxes(title='Field Goal Attempts')\n",
    "\n",
    "fig.update_yaxes(title='Field Goals')\n",
    "\n",
    "fig.show()"
   ]
  },
  {
   "attachments": {},
   "cell_type": "markdown",
   "metadata": {},
   "source": [
    "# Method Chaining"
   ]
  },
  {
   "attachments": {},
   "cell_type": "markdown",
   "metadata": {},
   "source": [
    "As an alternative to the method of updating the x- and y-axes tites used above, you can chain them together using a technique called **method chaining**. It is a way of calling multiple methods on the same object in a single line of code. In this specific example, we can use method chaining like this:\n",
    "\n",
    "`fig.update_xaxes(title='Field Goal Attempts').update_yaxes(title='Field Goals')`\n",
    "\n",
    "The `update_xaxes()` and `update_yaxes()` methods are being called on the same `fig` object in a single line of code.\n",
    "\n",
    "It is totally your choice in which technique you'd like to use."
   ]
  },
  {
   "attachments": {},
   "cell_type": "markdown",
   "metadata": {},
   "source": [
    "# Trends Analysis"
   ]
  },
  {
   "attachments": {},
   "cell_type": "markdown",
   "metadata": {},
   "source": [
    "What conclusions can you draw from the graph above? \n",
    "\n",
    "To help us with that, let's add a line of best fit, which we call a trendline. We often use the ordinary least squares method of calculating when dawing a trendline, which we will do here:"
   ]
  },
  {
   "cell_type": "code",
   "execution_count": null,
   "metadata": {},
   "outputs": [],
   "source": [
    "fig = px.scatter(df, \n",
    "           x='FGA', \n",
    "           y='FG', \n",
    "           title='Siakam Field Goals versus Field Goal Attempts', \n",
    "           trendline='ols')\n",
    "\n",
    "fig.update_xaxes(title='Field Goal Attempts')\n",
    "\n",
    "fig.update_yaxes(title='Field Goals')\n",
    "\n",
    "fig.show()\n"
   ]
  },
  {
   "attachments": {},
   "cell_type": "markdown",
   "metadata": {},
   "source": [
    "That makes it easier to draw a conclusion, doesn't it!"
   ]
  },
  {
   "attachments": {},
   "cell_type": "markdown",
   "metadata": {},
   "source": [
    "# Colour-coding the Data"
   ]
  },
  {
   "attachments": {},
   "cell_type": "markdown",
   "metadata": {},
   "source": [
    "To make the graph more interesting, we can also colour-code the data points by season, by making one little addition to the px.scatter() function:\n",
    "\n",
    "`color='Season'`"
   ]
  },
  {
   "cell_type": "code",
   "execution_count": null,
   "metadata": {},
   "outputs": [],
   "source": [
    "fig = px.scatter(df, \n",
    "           x='FGA', \n",
    "           y='FG', \n",
    "           title='Siakam Field Goals versus Field Goal Attempts', \n",
    "           color='Season') # <<<<<<<< NEW LINE\n",
    "\n",
    "fig.update_xaxes(title='Field Goal Attempts').update_yaxes(title='Field Goals')\n",
    "\n",
    "fig.show()\n"
   ]
  },
  {
   "attachments": {},
   "cell_type": "markdown",
   "metadata": {},
   "source": [
    "# Changing the Size of the Data Points"
   ]
  },
  {
   "attachments": {},
   "cell_type": "markdown",
   "metadata": {},
   "source": [
    "And to make it even more interesting, we can change the size of the data points so their size changes proportionally to one of the fields (columns) of data. Again, all it takes it a small change to the px.scatter() function:\n",
    "\n",
    "`size='FG'`"
   ]
  },
  {
   "cell_type": "code",
   "execution_count": null,
   "metadata": {},
   "outputs": [],
   "source": [
    "fig = px.scatter(df, \n",
    "           x='FGA', \n",
    "           y='FG', \n",
    "           title='Siakam Field Goals versus Field Goal Attempts', \n",
    "           color='Season', \n",
    "           size='FG') # <<<<<<<< NEW LINE\n",
    "\n",
    "fig.update_xaxes(title='Field Goal Attempts').update_yaxes(title='Field Goals')\n",
    "\n",
    "fig.show()"
   ]
  },
  {
   "attachments": {},
   "cell_type": "markdown",
   "metadata": {},
   "source": [
    "Cool, eh!"
   ]
  },
  {
   "attachments": {},
   "cell_type": "markdown",
   "metadata": {},
   "source": [
    "# Exercise"
   ]
  },
  {
   "attachments": {},
   "cell_type": "markdown",
   "metadata": {},
   "source": [
    "Create a scatter plot with assists per game `('AST')` on the x-axis, points per game `('PTS')` on the y-axis, and `color='Age'`. Include a trendline.\n",
    "\n",
    "What do you observe about the relationship between these columns?"
   ]
  },
  {
   "cell_type": "code",
   "execution_count": null,
   "metadata": {},
   "outputs": [],
   "source": [
    "import pandas as pd\n",
    "import plotly.express as px\n",
    "\n",
    "url = 'https://raw.githubusercontent.com/callysto/basketball-and-data-science/main/content/data/nba-players/Pascal_Siakam.csv'\n",
    "df = pd.read_csv(url)\n",
    "\n",
    "# Enter the rest of the program below.\n"
   ]
  }
 ],
 "metadata": {
  "kernelspec": {
   "display_name": ".venv",
   "language": "python",
   "name": "python3"
  },
  "language_info": {
   "codemirror_mode": {
    "name": "ipython",
    "version": 3
   },
   "file_extension": ".py",
   "mimetype": "text/x-python",
   "name": "python",
   "nbconvert_exporter": "python",
   "pygments_lexer": "ipython3",
   "version": "3.10.5"
  },
  "orig_nbformat": 4
 },
 "nbformat": 4,
 "nbformat_minor": 2
}

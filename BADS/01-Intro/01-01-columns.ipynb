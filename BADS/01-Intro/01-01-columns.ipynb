{
 "cells": [
  {
   "attachments": {},
   "cell_type": "markdown",
   "metadata": {},
   "source": [
    "This notebook has been adapted from... \n",
    "\n",
    "https://github.com/callysto/basketball-and-data-science/blob/main/content/01-introduction.ipynb, with permmission.\n",
    "\n",
    "\n",
    "(Open in [Callysto](https://hub.callysto.ca/jupyter/hub/user-redirect/git-pull?repo=https://github.com/pbeens/Data-Analysis&branch=main&subPath=bads/01-Intro/01-01-columns.ipynb&depth=1) | [Colab](https://githubtocolab.com/pbeens/Data-Analysis/blob/main/bads/01-Intro/01-01-columns.ipynb))"
   ]
  },
  {
   "cell_type": "code",
   "execution_count": null,
   "metadata": {},
   "outputs": [],
   "source": [
    "# Only needed for SSLCertVerificationError. Otherwise ignore!\n",
    "import ssl\n",
    "\n",
    "# Create an unverified SSL context that you can use to make requests without verifying the SSL certificate.\n",
    "ssl._create_default_https_context = ssl._create_unverified_context"
   ]
  },
  {
   "attachments": {},
   "cell_type": "markdown",
   "metadata": {},
   "source": [
    "# Let’s Get Our Data"
   ]
  },
  {
   "cell_type": "code",
   "execution_count": null,
   "metadata": {},
   "outputs": [],
   "source": [
    "import pandas as pd\n",
    "\n",
    "# URL of the CSV file containing data for Pascal Siakam\n",
    "url = 'https://raw.githubusercontent.com/callysto/basketball-and-data-science/main/content/data/nba-players/Pascal_Siakam.csv'\n",
    "\n",
    "# Read the CSV file into a pandas DataFrame\n",
    "df = pd.read_csv(url)\n",
    "\n",
    "# Display the DataFrame\n",
    "display(df)"
   ]
  },
  {
   "attachments": {},
   "cell_type": "markdown",
   "metadata": {},
   "source": [
    "Notice that last row? Why might you have to keep that in mind?"
   ]
  },
  {
   "attachments": {},
   "cell_type": "markdown",
   "metadata": {},
   "source": [
    "# Looking at the Columns"
   ]
  },
  {
   "attachments": {},
   "cell_type": "markdown",
   "metadata": {},
   "source": [
    "There are lots of columns, so let's list them using the `columns` attribute. \n",
    "\n",
    "Notice there aren't any parentheses when we use `columns`."
   ]
  },
  {
   "cell_type": "code",
   "execution_count": null,
   "metadata": {},
   "outputs": [],
   "source": [
    "display(df.columns)"
   ]
  },
  {
   "attachments": {},
   "cell_type": "markdown",
   "metadata": {},
   "source": [
    "Here's what all the columns mean:\n",
    "\n",
    "|Column|Meaning|\n",
    "|-|-|\n",
    "|Age|Player's age on February 1 of the season|\n",
    "|Lg|League|\n",
    "|Pos|Position|\n",
    "|G|Games|\n",
    "|GS|Games Started|\n",
    "|MP|Minutes Played Per Game|\n",
    "|FG|Field Goals Per Game|\n",
    "|FGA|Field Goal Attempts Per Game|\n",
    "|FG%|Field Goal Percentage|\n",
    "|3P|3-Point Field Goals Per Game|\n",
    "|3PA|3-Point Field Goal Attempts Per Game|\n",
    "|3P%|3-Point Field Goal Percentage|\n",
    "|2P|2-Point Field Goals Per Game|\n",
    "|2PA|2-Point Field Goal Attempts Per Game|\n",
    "|2P%|2-Point Field Goal Percentage|\n",
    "|eFG%|Effective Field Goal Percentage*|\n",
    "|FT|Free Throws Per Game|\n",
    "|FTA|Free Throw Attempts Per Game|\n",
    "|FT%|Free Throw Percentage|\n",
    "|ORB|Offensive Rebounds Per Game|\n",
    "|DRB|Defensive Rebounds Per Game|\n",
    "|TRB|Total Rebounds Per Game|\n",
    "|AST|Assists Per Game|\n",
    "|STL|Steals Per Game|\n",
    "|BLK|Blocks Per Game|\n",
    "|TOV|Turnovers Per Game|\n",
    "|PF|Personal Fouls Per Game|\n",
    "|PTS|Points Per Game|\n",
    "\n",
    "<span style=\"font-size:10px\">*This statistic adjusts for the fact that a 3-point field goal is worth one more point than a 2-point field goal.</span>"
   ]
  },
  {
   "attachments": {},
   "cell_type": "markdown",
   "metadata": {},
   "source": [
    "Let's just look at the FG (Field Goals) column."
   ]
  },
  {
   "cell_type": "code",
   "execution_count": null,
   "metadata": {},
   "outputs": [],
   "source": [
    "display(df['FG'])"
   ]
  },
  {
   "attachments": {},
   "cell_type": "markdown",
   "metadata": {},
   "source": [
    "What if we also want FGA? Notice that now we put the column names in a list (**[ ]**)."
   ]
  },
  {
   "cell_type": "code",
   "execution_count": null,
   "metadata": {},
   "outputs": [],
   "source": [
    "display(df[['FG', 'FGA']])"
   ]
  },
  {
   "attachments": {},
   "cell_type": "markdown",
   "metadata": {},
   "source": [
    "# Exercise\n",
    "\n",
    "Modify the code below to display the columns for Field Goal Percentage, 2-Point Field Goal Percentage, 3-Point Field Goal Percentage, and Free Throw Percentage."
   ]
  },
  {
   "cell_type": "code",
   "execution_count": null,
   "metadata": {},
   "outputs": [],
   "source": [
    "import pandas as pd\n",
    "\n",
    "# URL of the CSV file containing data for Pascal Siakam\n",
    "url = 'https://raw.githubusercontent.com/callysto/basketball-and-data-science/main/content/data/nba-players/Pascal_Siakam.csv'\n",
    "\n",
    "# Read the CSV file into a pandas DataFrame\n",
    "df = pd.read_csv(url)\n",
    "\n",
    "# Display the DataFrame\n",
    "display(df)"
   ]
  }
 ],
 "metadata": {
  "kernelspec": {
   "display_name": ".venv",
   "language": "python",
   "name": "python3"
  },
  "language_info": {
   "codemirror_mode": {
    "name": "ipython",
    "version": 3
   },
   "file_extension": ".py",
   "mimetype": "text/x-python",
   "name": "python",
   "nbconvert_exporter": "python",
   "pygments_lexer": "ipython3",
   "version": "3.10.5"
  },
  "orig_nbformat": 4
 },
 "nbformat": 4,
 "nbformat_minor": 2
}

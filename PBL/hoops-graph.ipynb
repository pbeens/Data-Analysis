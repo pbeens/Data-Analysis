{
 "cells": [
  {
   "cell_type": "markdown",
   "metadata": {},
   "source": [
    "The slideshow for this lesson can be found [here](https://docs.google.com/presentation/d/1uX0CVyDeFsMPM8drjT2ErUy1iPa2LNWg13NxpEwt1Hw/edit#slide=id.p). \n",
    "\n",
    "([bit.ly/pbl-hoops](https://bit.ly/pbl-hoops))"
   ]
  }
 ],
 "metadata": {
  "kernelspec": {
   "display_name": ".venv",
   "language": "python",
   "name": "python3"
  },
  "language_info": {
   "codemirror_mode": {
    "name": "ipython",
    "version": 3
   },
   "file_extension": ".py",
   "mimetype": "text/x-python",
   "name": "python",
   "nbconvert_exporter": "python",
   "pygments_lexer": "ipython3",
   "version": "3.11.4"
  }
 },
 "nbformat": 4,
 "nbformat_minor": 2
}

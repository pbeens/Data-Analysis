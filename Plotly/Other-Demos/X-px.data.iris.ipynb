{
 "cells": [
  {
   "cell_type": "code",
   "execution_count": null,
   "metadata": {},
   "outputs": [],
   "source": [
    "%pip install plotly_express -q"
   ]
  },
  {
   "cell_type": "code",
   "execution_count": null,
   "metadata": {},
   "outputs": [],
   "source": [
    "# Import the plotly.express library and give it an alias of px\n",
    "import plotly.express as px\n",
    "\n",
    "# Load the iris dataset from plotly.express and store it in a variable called data\n",
    "data = px.data.iris()\n",
    "\n",
    "# Display the data\n",
    "display(data)\n",
    "\n",
    "# Create a scatter plot using the data, with sepal_width on the x-axis, sepal_length on the y-axis, and species as the color\n",
    "fig = px.scatter(data_frame=data, x='sepal_width', y='sepal_length', color='species')\n",
    "\n",
    "# Display the plot\n",
    "fig.show()\n"
   ]
  }
 ],
 "metadata": {
  "kernelspec": {
   "display_name": ".venv",
   "language": "python",
   "name": "python3"
  },
  "language_info": {
   "codemirror_mode": {
    "name": "ipython",
    "version": 3
   },
   "file_extension": ".py",
   "mimetype": "text/x-python",
   "name": "python",
   "nbconvert_exporter": "python",
   "pygments_lexer": "ipython3",
   "version": "3.11.4"
  },
  "orig_nbformat": 4
 },
 "nbformat": 4,
 "nbformat_minor": 2
}

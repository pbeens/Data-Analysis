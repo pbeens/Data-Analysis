{
 "cells": [
  {
   "cell_type": "code",
   "execution_count": 15,
   "metadata": {},
   "outputs": [
    {
     "ename": "ValueError",
     "evalue": "Value 'old' for `trendline` must be one of dict_keys(['lowess', 'rolling', 'ewm', 'expanding', 'ols'])",
     "output_type": "error",
     "traceback": [
      "\u001b[0;31m---------------------------------------------------------------------------\u001b[0m",
      "\u001b[0;31mValueError\u001b[0m                                Traceback (most recent call last)",
      "Cell \u001b[0;32mIn[15], line 5\u001b[0m\n\u001b[1;32m      1\u001b[0m \u001b[39mimport\u001b[39;00m \u001b[39mplotly\u001b[39;00m\u001b[39m.\u001b[39;00m\u001b[39mexpress\u001b[39;00m \u001b[39mas\u001b[39;00m \u001b[39mpx\u001b[39;00m\n\u001b[1;32m      3\u001b[0m data_canada \u001b[39m=\u001b[39m px\u001b[39m.\u001b[39mdata\u001b[39m.\u001b[39mgapminder()\u001b[39m.\u001b[39mquery(\u001b[39m\"\u001b[39m\u001b[39mcountry == \u001b[39m\u001b[39m'\u001b[39m\u001b[39mCanada\u001b[39m\u001b[39m'\u001b[39m\u001b[39m\"\u001b[39m)\n\u001b[0;32m----> 5\u001b[0m fig \u001b[39m=\u001b[39m px\u001b[39m.\u001b[39;49mscatter(data_canada, x\u001b[39m=\u001b[39;49m\u001b[39m'\u001b[39;49m\u001b[39myear\u001b[39;49m\u001b[39m'\u001b[39;49m, y\u001b[39m=\u001b[39;49m\u001b[39m'\u001b[39;49m\u001b[39mpop\u001b[39;49m\u001b[39m'\u001b[39;49m, trendline\u001b[39m=\u001b[39;49m\u001b[39m'\u001b[39;49m\u001b[39mold\u001b[39;49m\u001b[39m'\u001b[39;49m)\n\u001b[1;32m      7\u001b[0m fig\u001b[39m.\u001b[39mshow()\n",
      "File \u001b[0;32m~/Documents/GitHub/Data-Analysis/.venv/lib/python3.10/site-packages/plotly/express/_chart_types.py:66\u001b[0m, in \u001b[0;36mscatter\u001b[0;34m(data_frame, x, y, color, symbol, size, hover_name, hover_data, custom_data, text, facet_row, facet_col, facet_col_wrap, facet_row_spacing, facet_col_spacing, error_x, error_x_minus, error_y, error_y_minus, animation_frame, animation_group, category_orders, labels, orientation, color_discrete_sequence, color_discrete_map, color_continuous_scale, range_color, color_continuous_midpoint, symbol_sequence, symbol_map, opacity, size_max, marginal_x, marginal_y, trendline, trendline_options, trendline_color_override, trendline_scope, log_x, log_y, range_x, range_y, render_mode, title, template, width, height)\u001b[0m\n\u001b[1;32m     12\u001b[0m \u001b[39mdef\u001b[39;00m \u001b[39mscatter\u001b[39m(\n\u001b[1;32m     13\u001b[0m     data_frame\u001b[39m=\u001b[39m\u001b[39mNone\u001b[39;00m,\n\u001b[1;32m     14\u001b[0m     x\u001b[39m=\u001b[39m\u001b[39mNone\u001b[39;00m,\n\u001b[0;32m   (...)\u001b[0m\n\u001b[1;32m     60\u001b[0m     height\u001b[39m=\u001b[39m\u001b[39mNone\u001b[39;00m,\n\u001b[1;32m     61\u001b[0m ) \u001b[39m-\u001b[39m\u001b[39m>\u001b[39m go\u001b[39m.\u001b[39mFigure:\n\u001b[1;32m     62\u001b[0m \u001b[39m    \u001b[39m\u001b[39m\"\"\"\u001b[39;00m\n\u001b[1;32m     63\u001b[0m \u001b[39m    In a scatter plot, each row of `data_frame` is represented by a symbol\u001b[39;00m\n\u001b[1;32m     64\u001b[0m \u001b[39m    mark in 2D space.\u001b[39;00m\n\u001b[1;32m     65\u001b[0m \u001b[39m    \"\"\"\u001b[39;00m\n\u001b[0;32m---> 66\u001b[0m     \u001b[39mreturn\u001b[39;00m make_figure(args\u001b[39m=\u001b[39;49m\u001b[39mlocals\u001b[39;49m(), constructor\u001b[39m=\u001b[39;49mgo\u001b[39m.\u001b[39;49mScatter)\n",
      "File \u001b[0;32m~/Documents/GitHub/Data-Analysis/.venv/lib/python3.10/site-packages/plotly/express/_core.py:2012\u001b[0m, in \u001b[0;36mmake_figure\u001b[0;34m(args, constructor, trace_patch, layout_patch)\u001b[0m\n\u001b[1;32m   2009\u001b[0m     constructor \u001b[39m=\u001b[39m go\u001b[39m.\u001b[39mBar\n\u001b[1;32m   2010\u001b[0m     args \u001b[39m=\u001b[39m process_dataframe_timeline(args)\n\u001b[0;32m-> 2012\u001b[0m trace_specs, grouped_mappings, sizeref, show_colorbar \u001b[39m=\u001b[39m infer_config(\n\u001b[1;32m   2013\u001b[0m     args, constructor, trace_patch, layout_patch\n\u001b[1;32m   2014\u001b[0m )\n\u001b[1;32m   2015\u001b[0m grouper \u001b[39m=\u001b[39m [x\u001b[39m.\u001b[39mgrouper \u001b[39mor\u001b[39;00m one_group \u001b[39mfor\u001b[39;00m x \u001b[39min\u001b[39;00m grouped_mappings] \u001b[39mor\u001b[39;00m [one_group]\n\u001b[1;32m   2016\u001b[0m groups, orders \u001b[39m=\u001b[39m get_groups_and_orders(args, grouper)\n",
      "File \u001b[0;32m~/Documents/GitHub/Data-Analysis/.venv/lib/python3.10/site-packages/plotly/express/_core.py:1907\u001b[0m, in \u001b[0;36minfer_config\u001b[0;34m(args, constructor, trace_patch, layout_patch)\u001b[0m\n\u001b[1;32m   1905\u001b[0m \u001b[39mif\u001b[39;00m \u001b[39m\"\u001b[39m\u001b[39mtrendline\u001b[39m\u001b[39m\"\u001b[39m \u001b[39min\u001b[39;00m args \u001b[39mand\u001b[39;00m args[\u001b[39m\"\u001b[39m\u001b[39mtrendline\u001b[39m\u001b[39m\"\u001b[39m] \u001b[39mis\u001b[39;00m \u001b[39mnot\u001b[39;00m \u001b[39mNone\u001b[39;00m:\n\u001b[1;32m   1906\u001b[0m     \u001b[39mif\u001b[39;00m args[\u001b[39m\"\u001b[39m\u001b[39mtrendline\u001b[39m\u001b[39m\"\u001b[39m] \u001b[39mnot\u001b[39;00m \u001b[39min\u001b[39;00m trendline_functions:\n\u001b[0;32m-> 1907\u001b[0m         \u001b[39mraise\u001b[39;00m \u001b[39mValueError\u001b[39;00m(\n\u001b[1;32m   1908\u001b[0m             \u001b[39m\"\u001b[39m\u001b[39mValue \u001b[39m\u001b[39m'\u001b[39m\u001b[39m%s\u001b[39;00m\u001b[39m'\u001b[39m\u001b[39m for `trendline` must be one of \u001b[39m\u001b[39m%s\u001b[39;00m\u001b[39m\"\u001b[39m\n\u001b[1;32m   1909\u001b[0m             \u001b[39m%\u001b[39m (args[\u001b[39m\"\u001b[39m\u001b[39mtrendline\u001b[39m\u001b[39m\"\u001b[39m], trendline_functions\u001b[39m.\u001b[39mkeys())\n\u001b[1;32m   1910\u001b[0m         )\n\u001b[1;32m   1912\u001b[0m \u001b[39mif\u001b[39;00m \u001b[39m\"\u001b[39m\u001b[39mtrendline_options\u001b[39m\u001b[39m\"\u001b[39m \u001b[39min\u001b[39;00m args \u001b[39mand\u001b[39;00m args[\u001b[39m\"\u001b[39m\u001b[39mtrendline_options\u001b[39m\u001b[39m\"\u001b[39m] \u001b[39mis\u001b[39;00m \u001b[39mNone\u001b[39;00m:\n\u001b[1;32m   1913\u001b[0m     args[\u001b[39m\"\u001b[39m\u001b[39mtrendline_options\u001b[39m\u001b[39m\"\u001b[39m] \u001b[39m=\u001b[39m \u001b[39mdict\u001b[39m()\n",
      "\u001b[0;31mValueError\u001b[0m: Value 'old' for `trendline` must be one of dict_keys(['lowess', 'rolling', 'ewm', 'expanding', 'ols'])"
     ]
    }
   ],
   "source": [
    "import plotly.express as px\n",
    "\n",
    "data_canada = px.data.gapminder().query(\"country == 'Canada'\")\n",
    "\n",
    "fig = px.scatter(data_canada, x='year', y='pop', trendline='old')\n",
    "\n",
    "fig.show()"
   ]
  },
  {
   "attachments": {},
   "cell_type": "markdown",
   "metadata": {},
   "source": [
    "There are several options for trendlines in Plotly Express. Here are the available options:\n",
    "\n",
    "- `\"ols\"`: Adds an ordinary least squares regression line to the plot.\n",
    "- `\"lowess\"`: Adds a locally weighted scatterplot smoothing (LOESS) regression line to the plot.\n",
    "- `\"rolling\"`: Adds a rolling window regression line to the plot.\n",
    "- `\"ewm\"`: Adds an exponentially weighted moving average (EWMA) regression line to the plot.\n",
    "- `\"expanding\"`: Adds an expanding window regression line to the plot.\n",
    "\n",
    "You can use these options with the `trendline` parameter in the `px.scatter()` function."
   ]
  },
  {
   "attachments": {},
   "cell_type": "markdown",
   "metadata": {},
   "source": []
  }
 ],
 "metadata": {
  "kernelspec": {
   "display_name": ".venv",
   "language": "python",
   "name": "python3"
  },
  "language_info": {
   "codemirror_mode": {
    "name": "ipython",
    "version": 3
   },
   "file_extension": ".py",
   "mimetype": "text/x-python",
   "name": "python",
   "nbconvert_exporter": "python",
   "pygments_lexer": "ipython3",
   "version": "3.10.5"
  },
  "orig_nbformat": 4
 },
 "nbformat": 4,
 "nbformat_minor": 2
}

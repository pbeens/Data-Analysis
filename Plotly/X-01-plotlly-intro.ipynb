{
 "cells": [
  {
   "attachments": {},
   "cell_type": "markdown",
   "metadata": {},
   "source": [
    "# Plotly Express Intro"
   ]
  },
  {
   "attachments": {},
   "cell_type": "markdown",
   "metadata": {},
   "source": [
    "Plotly Express is a high-level API for creating figures in Python. It has more than 30 functions for different types of plots, such as scatter, line, bar, pie, histogram, etc. You can import it as `import plotly.express as px` and use it to create interactive and beautiful charts with just a few lines of code. You can also customize the charts using the `update_layout` and `add_trace` methods of the `plotly.graph_objects.Figure` object that every Plotly Express function returns."
   ]
  },
  {
   "attachments": {},
   "cell_type": "markdown",
   "metadata": {},
   "source": [
    "If plotly is not installed, you can install it manually from the command line (`pip install plotly_express`) or by running the line below. nbformat, `which plotly.express` relies upon, has to be installed the same way."
   ]
  },
  {
   "cell_type": "code",
   "execution_count": null,
   "metadata": {},
   "outputs": [],
   "source": [
    "!pip install plotly_express\n",
    "!pip install nbformat"
   ]
  },
  {
   "attachments": {},
   "cell_type": "markdown",
   "metadata": {},
   "source": [
    "# Bar Chart"
   ]
  },
  {
   "attachments": {},
   "cell_type": "markdown",
   "metadata": {},
   "source": [
    "To create a bar chart, you can use the `px.bar` function. \n",
    "\n",
    "Most programs use a \"Setup-Input-Process-Output\" process, and we will be emphasizing this in the comments of the programs here. In future, you will not see this, even though the most programs follow this basic basic process."
   ]
  },
  {
   "attachments": {},
   "cell_type": "markdown",
   "metadata": {},
   "source": [
    "<div align=\"right>\n",
    "Test\n",
    "</div>"
   ]
  },
  {
   "attachments": {},
   "cell_type": "markdown",
   "metadata": {},
   "source": [
    "<div align=\"right>\n",
    "Test\n",
    "</div>"
   ]
  }
 ],
 "metadata": {
  "kernelspec": {
   "display_name": ".venv",
   "language": "python",
   "name": "python3"
  },
  "language_info": {
   "codemirror_mode": {
    "name": "ipython",
    "version": 3
   },
   "file_extension": ".py",
   "mimetype": "text/x-python",
   "name": "python",
   "nbconvert_exporter": "python",
   "pygments_lexer": "ipython3",
   "version": "3.11.4"
  },
  "orig_nbformat": 4
 },
 "nbformat": 4,
 "nbformat_minor": 2
}
